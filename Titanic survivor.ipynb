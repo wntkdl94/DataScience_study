{
 "cells": [
  {
   "cell_type": "markdown",
   "id": "chubby-fairy",
   "metadata": {},
   "source": [
    "# 타이타닉 생존자 가려내기\n",
    "\n",
    "### step 1 탐색: 타이타닉 데이터 살펴보기\n",
    "타이타닉 데이터셋의 구성은 다음과 같습니다.\n",
    "\n",
    "+ pclass:Passenger Class, 승객 등급\n",
    "+ survived: 생존 여부(생존은 1, 아닌 경우는 0)\n",
    "+ name: 승객 이름\n",
    "+ sex: 승객 성별\n",
    "+ age: 승객 나이\n",
    "+ sibsp: 동승한 형제 또는 배우자 수\n",
    "+ parch: 동승한 부모 또는 자녀 수\n",
    "+ ticket: 티켓 번호\n",
    "+ fare: 승객 지불 요금\n",
    "+ cabin: 선실 이름\n",
    "+ embarked: 승선항(C=쉘 부르크, Q=퀸즈타운, S=사우스 햄튼)\n",
    "+ body: 사망자 확인 번호\n",
    "+ home.dest: 고향/목적지\n",
    "\n",
    "분석에 사용할 데이터는 총 2개의 파일로 구성되어 있습니다.  \n",
    "하나는 분류 모델의 학습을 위한 학습 데이터셋, 그리고 나머지 하나는 테스트를 위한 테스트 데이터셋입니다.  \n",
    "그리고 각 데이터의 age,cabin,body,home,dest 피처에는 결측치가 존재합니다.  \n",
    "다음의 코드로 이를 확인해 봅시다."
   ]
  },
  {
   "cell_type": "code",
   "execution_count": null,
   "id": "discrete-clearance",
   "metadata": {},
   "outputs": [],
   "source": []
  }
 ],
 "metadata": {
  "kernelspec": {
   "display_name": "Python 3",
   "language": "python",
   "name": "python3"
  },
  "language_info": {
   "codemirror_mode": {
    "name": "ipython",
    "version": 3
   },
   "file_extension": ".py",
   "mimetype": "text/x-python",
   "name": "python",
   "nbconvert_exporter": "python",
   "pygments_lexer": "ipython3",
   "version": "3.6.9"
  }
 },
 "nbformat": 4,
 "nbformat_minor": 5
}
