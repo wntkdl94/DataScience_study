{
 "cells": [
  {
   "cell_type": "markdown",
   "id": "comprehensive-exhibit",
   "metadata": {},
   "source": [
    "# 1장 서울시 구별 CCTV 현황 분석\n",
    "\n",
    "## 1 - 1 CCTV 현황과 인구 현황 데이터 구하기\n",
    "\n",
    "서울시의 CCTV 현황은 구글 검색만으로도 쉽게 얻을 수 있다.\n",
    "CSV 파일은 콤마로 구분된 텍스트 파일입니다. 우리나라에서는 잘통용되지 않지만 외국 자료를 검색하다 보면 자주 나타납니다. 텍스트 파일이기 때문에 메모장에서도 열립니다. 그런데 만약 CSV 파일에 한글이 UTF-8로 인코딩 되어있다면 엑셀에서 열었을 때 한글이 깨져 보일 수 있습니다. 그것은 MS 오피스 제품들이 UFT-8을 지원하지 않기 때문이며 파일에 문제가 있는 것은 아닙니다. <br>\n",
    "(저는 ubuntu를 사용하고 있기때문에 github를 클론 따와서 사용하였습니다.) <br>\n",
    "https://github.com/PinkWink/DataScience"
   ]
  },
  {
   "cell_type": "markdown",
   "id": "falling-accent",
   "metadata": {},
   "source": [
    "## 1 - 2 파이썬에서 텍스트 파일과 엑셀 파일 읽기\n",
    "\n",
    "파이썬에서는 이런 종류의 파일을 쉽게 읽을 수 있는 모듈이 있습니다. 바로 pandas라는 모듈입니다. <br>"
   ]
  },
  {
   "cell_type": "code",
   "execution_count": 3,
   "id": "pointed-section",
   "metadata": {},
   "outputs": [],
   "source": [
    "import pandas as pd"
   ]
  },
  {
   "cell_type": "markdown",
   "id": "southwest-buying",
   "metadata": {},
   "source": [
    "파이썬에서 원하는 모듈을 불러오는 명령이 import입니다. 그뒤에 원하는 모듈명을 넣게 됩니다. 모듈명이 다음의 as는 as뒤에 붙는 pd라는 짧은 단어로 pandas를 대체하겠다는 뜻입니다. 즉, pandas의 read_csv라는 의미로 pandas.read_csv라고 하지 않고 pd.read_csv라고 쓰겠다는 의미 입니다. <br>\n",
    "pandas에서 CSV 파일을 읽는 명령은 read_csv입니다. 그안에 한글을 사용하는 경우는 인코딩에 신경 써야 합니다. 우리가 받은 CCTV 데이터는 UTF-8로 인코딩되어 있어서 read_csv 명령을 쓸 때 incoding 옵션에 UTF-8이라고 저장해야 합니다. 이때 사용된 head() 명령은 pandas 데이터의 첫 5행만 보여달라는 것입니다."
   ]
  },
  {
   "cell_type": "code",
   "execution_count": 4,
   "id": "ordered-haven",
   "metadata": {},
   "outputs": [
    {
     "data": {
      "text/html": [
       "<div>\n",
       "<style scoped>\n",
       "    .dataframe tbody tr th:only-of-type {\n",
       "        vertical-align: middle;\n",
       "    }\n",
       "\n",
       "    .dataframe tbody tr th {\n",
       "        vertical-align: top;\n",
       "    }\n",
       "\n",
       "    .dataframe thead th {\n",
       "        text-align: right;\n",
       "    }\n",
       "</style>\n",
       "<table border=\"1\" class=\"dataframe\">\n",
       "  <thead>\n",
       "    <tr style=\"text-align: right;\">\n",
       "      <th></th>\n",
       "      <th>기관명</th>\n",
       "      <th>소계</th>\n",
       "      <th>2013년도 이전</th>\n",
       "      <th>2014년</th>\n",
       "      <th>2015년</th>\n",
       "      <th>2016년</th>\n",
       "    </tr>\n",
       "  </thead>\n",
       "  <tbody>\n",
       "    <tr>\n",
       "      <th>0</th>\n",
       "      <td>강남구</td>\n",
       "      <td>2780</td>\n",
       "      <td>1292</td>\n",
       "      <td>430</td>\n",
       "      <td>584</td>\n",
       "      <td>932</td>\n",
       "    </tr>\n",
       "    <tr>\n",
       "      <th>1</th>\n",
       "      <td>강동구</td>\n",
       "      <td>773</td>\n",
       "      <td>379</td>\n",
       "      <td>99</td>\n",
       "      <td>155</td>\n",
       "      <td>377</td>\n",
       "    </tr>\n",
       "    <tr>\n",
       "      <th>2</th>\n",
       "      <td>강북구</td>\n",
       "      <td>748</td>\n",
       "      <td>369</td>\n",
       "      <td>120</td>\n",
       "      <td>138</td>\n",
       "      <td>204</td>\n",
       "    </tr>\n",
       "    <tr>\n",
       "      <th>3</th>\n",
       "      <td>강서구</td>\n",
       "      <td>884</td>\n",
       "      <td>388</td>\n",
       "      <td>258</td>\n",
       "      <td>184</td>\n",
       "      <td>81</td>\n",
       "    </tr>\n",
       "    <tr>\n",
       "      <th>4</th>\n",
       "      <td>관악구</td>\n",
       "      <td>1496</td>\n",
       "      <td>846</td>\n",
       "      <td>260</td>\n",
       "      <td>390</td>\n",
       "      <td>613</td>\n",
       "    </tr>\n",
       "  </tbody>\n",
       "</table>\n",
       "</div>"
      ],
      "text/plain": [
       "   기관명    소계  2013년도 이전  2014년  2015년  2016년\n",
       "0  강남구  2780       1292    430    584    932\n",
       "1  강동구   773        379     99    155    377\n",
       "2  강북구   748        369    120    138    204\n",
       "3  강서구   884        388    258    184     81\n",
       "4  관악구  1496        846    260    390    613"
      ]
     },
     "execution_count": 4,
     "metadata": {},
     "output_type": "execute_result"
    }
   ],
   "source": [
    "CCTV_Seoul = pd.read_csv('./data/01. CCTV_in_Seoul.csv', encoding='utf-8')\n",
    "CCTV_Seoul.head()"
   ]
  },
  {
   "cell_type": "markdown",
   "id": "motivated-interim",
   "metadata": {},
   "source": [
    "pandas 데이터는 제일 첫 줄에 보이는 것이 해당하는 열(column)을 대표하는ㄴ 일종의 제목입니다. <br>\n",
    "그래서 첫 줄은 특별히 column이라고 합니다. 데이터 뒤에 columns라고 하면 column의 이름들이 반환됩니다."
   ]
  },
  {
   "cell_type": "code",
   "execution_count": 5,
   "id": "shaped-genius",
   "metadata": {},
   "outputs": [
    {
     "data": {
      "text/plain": [
       "Index(['기관명', '소계', '2013년도 이전', '2014년', '2015년', '2016년'], dtype='object')"
      ]
     },
     "execution_count": 5,
     "metadata": {},
     "output_type": "execute_result"
    }
   ],
   "source": [
    "CCTV_Seoul.columns"
   ]
  },
  {
   "cell_type": "code",
   "execution_count": 6,
   "id": "worse-building",
   "metadata": {},
   "outputs": [
    {
     "data": {
      "text/plain": [
       "'기관명'"
      ]
     },
     "execution_count": 6,
     "metadata": {},
     "output_type": "execute_result"
    }
   ],
   "source": [
    "CCTV_Seoul.columns[0]"
   ]
  },
  {
   "cell_type": "markdown",
   "id": "listed-steal",
   "metadata": {},
   "source": [
    "그런데 기관명이라고 되어 있으니 이를 '구별'이라는 이름으로 하겠습니다. 이렇게 이름을 바꾸는 명령은 rename이라고 합니다. 그리고 그 명령 안에 사용된 inplace=True는 실제 CCTV_Seoul이라는 변수의 내용을 갱신하라는 의미 입니다."
   ]
  },
  {
   "cell_type": "code",
   "execution_count": 7,
   "id": "ethical-watch",
   "metadata": {},
   "outputs": [
    {
     "data": {
      "text/html": [
       "<div>\n",
       "<style scoped>\n",
       "    .dataframe tbody tr th:only-of-type {\n",
       "        vertical-align: middle;\n",
       "    }\n",
       "\n",
       "    .dataframe tbody tr th {\n",
       "        vertical-align: top;\n",
       "    }\n",
       "\n",
       "    .dataframe thead th {\n",
       "        text-align: right;\n",
       "    }\n",
       "</style>\n",
       "<table border=\"1\" class=\"dataframe\">\n",
       "  <thead>\n",
       "    <tr style=\"text-align: right;\">\n",
       "      <th></th>\n",
       "      <th>구별</th>\n",
       "      <th>소계</th>\n",
       "      <th>2013년도 이전</th>\n",
       "      <th>2014년</th>\n",
       "      <th>2015년</th>\n",
       "      <th>2016년</th>\n",
       "    </tr>\n",
       "  </thead>\n",
       "  <tbody>\n",
       "    <tr>\n",
       "      <th>0</th>\n",
       "      <td>강남구</td>\n",
       "      <td>2780</td>\n",
       "      <td>1292</td>\n",
       "      <td>430</td>\n",
       "      <td>584</td>\n",
       "      <td>932</td>\n",
       "    </tr>\n",
       "    <tr>\n",
       "      <th>1</th>\n",
       "      <td>강동구</td>\n",
       "      <td>773</td>\n",
       "      <td>379</td>\n",
       "      <td>99</td>\n",
       "      <td>155</td>\n",
       "      <td>377</td>\n",
       "    </tr>\n",
       "    <tr>\n",
       "      <th>2</th>\n",
       "      <td>강북구</td>\n",
       "      <td>748</td>\n",
       "      <td>369</td>\n",
       "      <td>120</td>\n",
       "      <td>138</td>\n",
       "      <td>204</td>\n",
       "    </tr>\n",
       "    <tr>\n",
       "      <th>3</th>\n",
       "      <td>강서구</td>\n",
       "      <td>884</td>\n",
       "      <td>388</td>\n",
       "      <td>258</td>\n",
       "      <td>184</td>\n",
       "      <td>81</td>\n",
       "    </tr>\n",
       "    <tr>\n",
       "      <th>4</th>\n",
       "      <td>관악구</td>\n",
       "      <td>1496</td>\n",
       "      <td>846</td>\n",
       "      <td>260</td>\n",
       "      <td>390</td>\n",
       "      <td>613</td>\n",
       "    </tr>\n",
       "  </tbody>\n",
       "</table>\n",
       "</div>"
      ],
      "text/plain": [
       "    구별    소계  2013년도 이전  2014년  2015년  2016년\n",
       "0  강남구  2780       1292    430    584    932\n",
       "1  강동구   773        379     99    155    377\n",
       "2  강북구   748        369    120    138    204\n",
       "3  강서구   884        388    258    184     81\n",
       "4  관악구  1496        846    260    390    613"
      ]
     },
     "execution_count": 7,
     "metadata": {},
     "output_type": "execute_result"
    }
   ],
   "source": [
    "CCTV_Seoul.rename(columns={CCTV_Seoul.columns[0] : '구별'}, inplace=True)\n",
    "CCTV_Seoul.head()"
   ]
  },
  {
   "cell_type": "markdown",
   "id": "reflected-given",
   "metadata": {},
   "source": [
    "이제 엑셀 파일을 읽어야 합니다. 그명령은 read_excel입니다. 그냥 인코딩만 지정하고 읽었더니 약간 이상합니다. 그것은 원본 엑셀 파일이 첫 세줄이 열의 제목처럼 되어 있기 때문입니다."
   ]
  },
  {
   "cell_type": "code",
   "execution_count": 18,
   "id": "religious-needle",
   "metadata": {},
   "outputs": [
    {
     "ename": "TypeError",
     "evalue": "read_excel() got an unexpected keyword argument 'encoding'",
     "output_type": "error",
     "traceback": [
      "\u001b[0;31m---------------------------------------------------------------------------\u001b[0m",
      "\u001b[0;31mTypeError\u001b[0m                                 Traceback (most recent call last)",
      "\u001b[0;32m<ipython-input-18-c8d5ab44bfc2>\u001b[0m in \u001b[0;36m<module>\u001b[0;34m\u001b[0m\n\u001b[0;32m----> 1\u001b[0;31m \u001b[0mpop_Seoul\u001b[0m \u001b[0;34m=\u001b[0m \u001b[0mpd\u001b[0m\u001b[0;34m.\u001b[0m\u001b[0mread_excel\u001b[0m\u001b[0;34m(\u001b[0m\u001b[0;34m'./data/01. population_in_Seoul.xls'\u001b[0m\u001b[0;34m,\u001b[0m  \u001b[0mencoding\u001b[0m\u001b[0;34m=\u001b[0m\u001b[0;34m'utf-8'\u001b[0m\u001b[0;34m)\u001b[0m\u001b[0;34m\u001b[0m\u001b[0;34m\u001b[0m\u001b[0m\n\u001b[0m\u001b[1;32m      2\u001b[0m \u001b[0mpop_Seoul\u001b[0m\u001b[0;34m.\u001b[0m\u001b[0mhead\u001b[0m\u001b[0;34m(\u001b[0m\u001b[0;34m)\u001b[0m\u001b[0;34m\u001b[0m\u001b[0;34m\u001b[0m\u001b[0m\n",
      "\u001b[0;32m~/.local/lib/python3.6/site-packages/pandas/util/_decorators.py\u001b[0m in \u001b[0;36mwrapper\u001b[0;34m(*args, **kwargs)\u001b[0m\n\u001b[1;32m    294\u001b[0m                 )\n\u001b[1;32m    295\u001b[0m                 \u001b[0mwarnings\u001b[0m\u001b[0;34m.\u001b[0m\u001b[0mwarn\u001b[0m\u001b[0;34m(\u001b[0m\u001b[0mmsg\u001b[0m\u001b[0;34m,\u001b[0m \u001b[0mFutureWarning\u001b[0m\u001b[0;34m,\u001b[0m \u001b[0mstacklevel\u001b[0m\u001b[0;34m=\u001b[0m\u001b[0mstacklevel\u001b[0m\u001b[0;34m)\u001b[0m\u001b[0;34m\u001b[0m\u001b[0;34m\u001b[0m\u001b[0m\n\u001b[0;32m--> 296\u001b[0;31m             \u001b[0;32mreturn\u001b[0m \u001b[0mfunc\u001b[0m\u001b[0;34m(\u001b[0m\u001b[0;34m*\u001b[0m\u001b[0margs\u001b[0m\u001b[0;34m,\u001b[0m \u001b[0;34m**\u001b[0m\u001b[0mkwargs\u001b[0m\u001b[0;34m)\u001b[0m\u001b[0;34m\u001b[0m\u001b[0;34m\u001b[0m\u001b[0m\n\u001b[0m\u001b[1;32m    297\u001b[0m \u001b[0;34m\u001b[0m\u001b[0m\n\u001b[1;32m    298\u001b[0m         \u001b[0;32mreturn\u001b[0m \u001b[0mwrapper\u001b[0m\u001b[0;34m\u001b[0m\u001b[0;34m\u001b[0m\u001b[0m\n",
      "\u001b[0;31mTypeError\u001b[0m: read_excel() got an unexpected keyword argument 'encoding'"
     ]
    }
   ],
   "source": [
    "pop_Seoul = pd.read_excel('./data/01. population_in_Seoul.xls',  encoding='utf-8')\n",
    "pop_Seoul.head()"
   ]
  },
  {
   "cell_type": "markdown",
   "id": "sealed-opera",
   "metadata": {},
   "source": [
    "일단 엑셀을 읽는 rad_excel 명령 안에서 세 번째 줄부터 읽으라는 header=2라는 옵션을 걸고, B, D, G, J, N 열만 읽도록 parse_cols='B,D,G,J,N'이라는 옵션을 넣었습니다."
   ]
  },
  {
   "cell_type": "code",
   "execution_count": 20,
   "id": "solid-spread",
   "metadata": {},
   "outputs": [
    {
     "ename": "TypeError",
     "evalue": "read_excel() got an unexpected keyword argument 'encoding'",
     "output_type": "error",
     "traceback": [
      "\u001b[0;31m---------------------------------------------------------------------------\u001b[0m",
      "\u001b[0;31mTypeError\u001b[0m                                 Traceback (most recent call last)",
      "\u001b[0;32m<ipython-input-20-5848ceb6a1d4>\u001b[0m in \u001b[0;36m<module>\u001b[0;34m\u001b[0m\n\u001b[1;32m      2\u001b[0m                           \u001b[0mheader\u001b[0m \u001b[0;34m=\u001b[0m \u001b[0;36m2\u001b[0m\u001b[0;34m,\u001b[0m\u001b[0;34m\u001b[0m\u001b[0;34m\u001b[0m\u001b[0m\n\u001b[1;32m      3\u001b[0m                           \u001b[0musecols\u001b[0m \u001b[0;34m=\u001b[0m \u001b[0;34m'B, D, G, J, N'\u001b[0m\u001b[0;34m,\u001b[0m\u001b[0;34m\u001b[0m\u001b[0;34m\u001b[0m\u001b[0m\n\u001b[0;32m----> 4\u001b[0;31m                           encoding='utf-8')\n\u001b[0m\u001b[1;32m      5\u001b[0m \u001b[0mpop_Seoul\u001b[0m\u001b[0;34m.\u001b[0m\u001b[0mhead\u001b[0m\u001b[0;34m(\u001b[0m\u001b[0;34m)\u001b[0m\u001b[0;34m\u001b[0m\u001b[0;34m\u001b[0m\u001b[0m\n",
      "\u001b[0;32m~/.local/lib/python3.6/site-packages/pandas/util/_decorators.py\u001b[0m in \u001b[0;36mwrapper\u001b[0;34m(*args, **kwargs)\u001b[0m\n\u001b[1;32m    294\u001b[0m                 )\n\u001b[1;32m    295\u001b[0m                 \u001b[0mwarnings\u001b[0m\u001b[0;34m.\u001b[0m\u001b[0mwarn\u001b[0m\u001b[0;34m(\u001b[0m\u001b[0mmsg\u001b[0m\u001b[0;34m,\u001b[0m \u001b[0mFutureWarning\u001b[0m\u001b[0;34m,\u001b[0m \u001b[0mstacklevel\u001b[0m\u001b[0;34m=\u001b[0m\u001b[0mstacklevel\u001b[0m\u001b[0;34m)\u001b[0m\u001b[0;34m\u001b[0m\u001b[0;34m\u001b[0m\u001b[0m\n\u001b[0;32m--> 296\u001b[0;31m             \u001b[0;32mreturn\u001b[0m \u001b[0mfunc\u001b[0m\u001b[0;34m(\u001b[0m\u001b[0;34m*\u001b[0m\u001b[0margs\u001b[0m\u001b[0;34m,\u001b[0m \u001b[0;34m**\u001b[0m\u001b[0mkwargs\u001b[0m\u001b[0;34m)\u001b[0m\u001b[0;34m\u001b[0m\u001b[0;34m\u001b[0m\u001b[0m\n\u001b[0m\u001b[1;32m    297\u001b[0m \u001b[0;34m\u001b[0m\u001b[0m\n\u001b[1;32m    298\u001b[0m         \u001b[0;32mreturn\u001b[0m \u001b[0mwrapper\u001b[0m\u001b[0;34m\u001b[0m\u001b[0;34m\u001b[0m\u001b[0m\n",
      "\u001b[0;31mTypeError\u001b[0m: read_excel() got an unexpected keyword argument 'encoding'"
     ]
    }
   ],
   "source": [
    "pop_Seoul = pd.read_excel('../data/01. population_in_Seoul.xls', \n",
    "                          header = 2,\n",
    "                          usecols = 'B, D, G, J, N',\n",
    "                          encoding='utf-8')\n",
    "pop_Seoul.head()"
   ]
  },
  {
   "cell_type": "markdown",
   "id": "metallic-adobe",
   "metadata": {},
   "source": [
    "출력된 모습도 간결하게 되었습니다. 그러나 컬럼의 이름에 문제가 있는 듯합니다. rename 명령을 사용해서 컬럼의 이름을 변경합니다."
   ]
  },
  {
   "cell_type": "code",
   "execution_count": 21,
   "id": "careful-computer",
   "metadata": {},
   "outputs": [
    {
     "ename": "NameError",
     "evalue": "name 'pop_Seoul' is not defined",
     "output_type": "error",
     "traceback": [
      "\u001b[0;31m---------------------------------------------------------------------------\u001b[0m",
      "\u001b[0;31mNameError\u001b[0m                                 Traceback (most recent call last)",
      "\u001b[0;32m<ipython-input-21-ec958a7c7ad5>\u001b[0m in \u001b[0;36m<module>\u001b[0;34m\u001b[0m\n\u001b[0;32m----> 1\u001b[0;31m pop_Seoul.rename(columns={pop_Seoul.columns[0] : '구별', \n\u001b[0m\u001b[1;32m      2\u001b[0m                           \u001b[0mpop_Seoul\u001b[0m\u001b[0;34m.\u001b[0m\u001b[0mcolumns\u001b[0m\u001b[0;34m[\u001b[0m\u001b[0;36m1\u001b[0m\u001b[0;34m]\u001b[0m \u001b[0;34m:\u001b[0m \u001b[0;34m'인구수'\u001b[0m\u001b[0;34m,\u001b[0m\u001b[0;34m\u001b[0m\u001b[0;34m\u001b[0m\u001b[0m\n\u001b[1;32m      3\u001b[0m                           \u001b[0mpop_Seoul\u001b[0m\u001b[0;34m.\u001b[0m\u001b[0mcolumns\u001b[0m\u001b[0;34m[\u001b[0m\u001b[0;36m2\u001b[0m\u001b[0;34m]\u001b[0m \u001b[0;34m:\u001b[0m \u001b[0;34m'한국인'\u001b[0m\u001b[0;34m,\u001b[0m\u001b[0;34m\u001b[0m\u001b[0;34m\u001b[0m\u001b[0m\n\u001b[1;32m      4\u001b[0m                           \u001b[0mpop_Seoul\u001b[0m\u001b[0;34m.\u001b[0m\u001b[0mcolumns\u001b[0m\u001b[0;34m[\u001b[0m\u001b[0;36m3\u001b[0m\u001b[0;34m]\u001b[0m \u001b[0;34m:\u001b[0m \u001b[0;34m'외국인'\u001b[0m\u001b[0;34m,\u001b[0m\u001b[0;34m\u001b[0m\u001b[0;34m\u001b[0m\u001b[0m\n\u001b[1;32m      5\u001b[0m                           pop_Seoul.columns[4] : '고령자'}, inplace=True)\n",
      "\u001b[0;31mNameError\u001b[0m: name 'pop_Seoul' is not defined"
     ]
    }
   ],
   "source": [
    "pop_Seoul.rename(columns={pop_Seoul.columns[0] : '구별', \n",
    "                          pop_Seoul.columns[1] : '인구수', \n",
    "                          pop_Seoul.columns[2] : '한국인', \n",
    "                          pop_Seoul.columns[3] : '외국인', \n",
    "                          pop_Seoul.columns[4] : '고령자'}, inplace=True)\n",
    "pop_Seoul.head()"
   ]
  },
  {
   "cell_type": "markdown",
   "id": "closing-penalty",
   "metadata": {},
   "source": [
    "CCTV_Seoul이라는 변수에는 '구별 CCTV 현황'을, pop_Seoul이라는 변수에는 '구별 인구 현황'을 저장했습니다. pandas에서 몇 줄 입력하지 않았는데 우리는 두종류의 파일을 보기 좋게 읽게 되었습니다."
   ]
  },
  {
   "cell_type": "markdown",
   "id": "multiple-opposition",
   "metadata": {},
   "source": [
    "# 1 - 3 pandas 기초 익히기\n",
    "\n",
    "pandas의 사용 빈도가 높아서 기초를 익히고 지나가자 그리고 본 절의 튜토리얼은 pandas의 튜토리얼이 다수 포함되어 있습니다."
   ]
  },
  {
   "cell_type": "code",
   "execution_count": 8,
   "id": "complicated-brand",
   "metadata": {},
   "outputs": [],
   "source": [
    "import pandas as pd\n",
    "import numpy as np"
   ]
  },
  {
   "cell_type": "code",
   "execution_count": 9,
   "id": "biblical-matrix",
   "metadata": {},
   "outputs": [
    {
     "data": {
      "text/plain": [
       "0    1.0\n",
       "1    3.0\n",
       "2    5.0\n",
       "3    NaN\n",
       "4    6.0\n",
       "5    8.0\n",
       "dtype: float64"
      ]
     },
     "execution_count": 9,
     "metadata": {},
     "output_type": "execute_result"
    }
   ],
   "source": [
    "s = pd.Series([1,3,5,np.nan,6,8])\n",
    "s"
   ]
  },
  {
   "cell_type": "markdown",
   "id": "academic-roads",
   "metadata": {},
   "source": [
    "pandas의 데이터 유형 중 기초가 되는 것이 Series입니다. 대괄호로 만드는 파이썬의 list 데이터로 만들 수 있습니다. 중간에 NaN(Not A Number)도 넣었습니다."
   ]
  },
  {
   "cell_type": "code",
   "execution_count": 10,
   "id": "anticipated-cycle",
   "metadata": {},
   "outputs": [
    {
     "data": {
      "text/plain": [
       "DatetimeIndex(['2013-01-01', '2013-01-02', '2013-01-03', '2013-01-04',\n",
       "               '2013-01-05', '2013-01-06'],\n",
       "              dtype='datetime64[ns]', freq='D')"
      ]
     },
     "execution_count": 10,
     "metadata": {},
     "output_type": "execute_result"
    }
   ],
   "source": [
    "dates = pd.date_range('20130101', periods=6)\n",
    "dates"
   ]
  },
  {
   "cell_type": "markdown",
   "id": "primary-invalid",
   "metadata": {},
   "source": [
    "또 pandas에는 날짜형의 데이터인 date_range가 있습니다. 기본 날짜를 지정하고 periods 옵션으로 6일간이라고 지정합니다."
   ]
  },
  {
   "cell_type": "code",
   "execution_count": 11,
   "id": "encouraging-answer",
   "metadata": {},
   "outputs": [
    {
     "data": {
      "text/html": [
       "<div>\n",
       "<style scoped>\n",
       "    .dataframe tbody tr th:only-of-type {\n",
       "        vertical-align: middle;\n",
       "    }\n",
       "\n",
       "    .dataframe tbody tr th {\n",
       "        vertical-align: top;\n",
       "    }\n",
       "\n",
       "    .dataframe thead th {\n",
       "        text-align: right;\n",
       "    }\n",
       "</style>\n",
       "<table border=\"1\" class=\"dataframe\">\n",
       "  <thead>\n",
       "    <tr style=\"text-align: right;\">\n",
       "      <th></th>\n",
       "      <th>A</th>\n",
       "      <th>B</th>\n",
       "      <th>C</th>\n",
       "      <th>D</th>\n",
       "    </tr>\n",
       "  </thead>\n",
       "  <tbody>\n",
       "    <tr>\n",
       "      <th>2013-01-01</th>\n",
       "      <td>-1.607562</td>\n",
       "      <td>-0.127998</td>\n",
       "      <td>-0.209677</td>\n",
       "      <td>-0.989399</td>\n",
       "    </tr>\n",
       "    <tr>\n",
       "      <th>2013-01-02</th>\n",
       "      <td>-0.017151</td>\n",
       "      <td>1.129311</td>\n",
       "      <td>-0.589216</td>\n",
       "      <td>0.355995</td>\n",
       "    </tr>\n",
       "    <tr>\n",
       "      <th>2013-01-03</th>\n",
       "      <td>0.266341</td>\n",
       "      <td>-0.307716</td>\n",
       "      <td>-0.445515</td>\n",
       "      <td>-1.440991</td>\n",
       "    </tr>\n",
       "    <tr>\n",
       "      <th>2013-01-04</th>\n",
       "      <td>-0.606774</td>\n",
       "      <td>-2.012520</td>\n",
       "      <td>0.311702</td>\n",
       "      <td>-0.664928</td>\n",
       "    </tr>\n",
       "    <tr>\n",
       "      <th>2013-01-05</th>\n",
       "      <td>-0.539119</td>\n",
       "      <td>-0.138454</td>\n",
       "      <td>-2.604810</td>\n",
       "      <td>-0.269691</td>\n",
       "    </tr>\n",
       "    <tr>\n",
       "      <th>2013-01-06</th>\n",
       "      <td>1.486124</td>\n",
       "      <td>-0.282913</td>\n",
       "      <td>1.662937</td>\n",
       "      <td>0.723184</td>\n",
       "    </tr>\n",
       "  </tbody>\n",
       "</table>\n",
       "</div>"
      ],
      "text/plain": [
       "                   A         B         C         D\n",
       "2013-01-01 -1.607562 -0.127998 -0.209677 -0.989399\n",
       "2013-01-02 -0.017151  1.129311 -0.589216  0.355995\n",
       "2013-01-03  0.266341 -0.307716 -0.445515 -1.440991\n",
       "2013-01-04 -0.606774 -2.012520  0.311702 -0.664928\n",
       "2013-01-05 -0.539119 -0.138454 -2.604810 -0.269691\n",
       "2013-01-06  1.486124 -0.282913  1.662937  0.723184"
      ]
     },
     "execution_count": 11,
     "metadata": {},
     "output_type": "execute_result"
    }
   ],
   "source": [
    "df = pd.DataFrame(np.random.randn(6,4), index=dates, \n",
    "                  columns=['A','B','C','D'])\n",
    "df"
   ]
  },
  {
   "cell_type": "markdown",
   "id": "junior-stick",
   "metadata": {},
   "source": [
    "이제 DataFrame 유형의 데이터를 만듭니다. 6행 4열의 random 변수를 만들고, 컬럼에는 columns=['A','B','C','D']로 지정하고, index 명령으로 만든 날짜형 데이터인 dates를 index=dates 옵션을 이용해서 저장했습니다."
   ]
  },
  {
   "cell_type": "code",
   "execution_count": 28,
   "id": "african-neighbor",
   "metadata": {},
   "outputs": [
    {
     "data": {
      "text/html": [
       "<div>\n",
       "<style scoped>\n",
       "    .dataframe tbody tr th:only-of-type {\n",
       "        vertical-align: middle;\n",
       "    }\n",
       "\n",
       "    .dataframe tbody tr th {\n",
       "        vertical-align: top;\n",
       "    }\n",
       "\n",
       "    .dataframe thead th {\n",
       "        text-align: right;\n",
       "    }\n",
       "</style>\n",
       "<table border=\"1\" class=\"dataframe\">\n",
       "  <thead>\n",
       "    <tr style=\"text-align: right;\">\n",
       "      <th></th>\n",
       "      <th>A</th>\n",
       "      <th>B</th>\n",
       "      <th>C</th>\n",
       "      <th>D</th>\n",
       "    </tr>\n",
       "  </thead>\n",
       "  <tbody>\n",
       "    <tr>\n",
       "      <th>2013-01-01</th>\n",
       "      <td>0.029147</td>\n",
       "      <td>-0.347297</td>\n",
       "      <td>-0.808200</td>\n",
       "      <td>1.960662</td>\n",
       "    </tr>\n",
       "    <tr>\n",
       "      <th>2013-01-02</th>\n",
       "      <td>-1.536493</td>\n",
       "      <td>0.805683</td>\n",
       "      <td>0.321746</td>\n",
       "      <td>-0.885591</td>\n",
       "    </tr>\n",
       "    <tr>\n",
       "      <th>2013-01-03</th>\n",
       "      <td>-0.972634</td>\n",
       "      <td>0.041225</td>\n",
       "      <td>-0.828253</td>\n",
       "      <td>0.552323</td>\n",
       "    </tr>\n",
       "  </tbody>\n",
       "</table>\n",
       "</div>"
      ],
      "text/plain": [
       "                   A         B         C         D\n",
       "2013-01-01  0.029147 -0.347297 -0.808200  1.960662\n",
       "2013-01-02 -1.536493  0.805683  0.321746 -0.885591\n",
       "2013-01-03 -0.972634  0.041225 -0.828253  0.552323"
      ]
     },
     "execution_count": 28,
     "metadata": {},
     "output_type": "execute_result"
    }
   ],
   "source": [
    "df.head(3)"
   ]
  },
  {
   "cell_type": "markdown",
   "id": "portable-empire",
   "metadata": {},
   "source": [
    "head() 명령을 사용하면 기본적으로 첫 5행을 보여줍니다. 괄호 안에 숫자를 널어두면 그 숫자만큼의 행을 볼 수 있습니다."
   ]
  },
  {
   "cell_type": "code",
   "execution_count": 12,
   "id": "falling-warrior",
   "metadata": {},
   "outputs": [
    {
     "data": {
      "text/plain": [
       "DatetimeIndex(['2013-01-01', '2013-01-02', '2013-01-03', '2013-01-04',\n",
       "               '2013-01-05', '2013-01-06'],\n",
       "              dtype='datetime64[ns]', freq='D')"
      ]
     },
     "execution_count": 12,
     "metadata": {},
     "output_type": "execute_result"
    }
   ],
   "source": [
    "df.index"
   ]
  },
  {
   "cell_type": "code",
   "execution_count": 13,
   "id": "becoming-ideal",
   "metadata": {},
   "outputs": [
    {
     "data": {
      "text/plain": [
       "Index(['A', 'B', 'C', 'D'], dtype='object')"
      ]
     },
     "execution_count": 13,
     "metadata": {},
     "output_type": "execute_result"
    }
   ],
   "source": [
    "df.columns"
   ]
  },
  {
   "cell_type": "markdown",
   "id": "departmental-deputy",
   "metadata": {},
   "source": [
    "그리고 index,columns 명령을 이용하면 pandas의 DataFrame의 컬럼과 인덱스를 확안할 수 있습니다."
   ]
  },
  {
   "cell_type": "code",
   "execution_count": 14,
   "id": "valued-appraisal",
   "metadata": {},
   "outputs": [
    {
     "data": {
      "text/plain": [
       "array([[-1.60756236, -0.12799833, -0.20967723, -0.98939935],\n",
       "       [-0.01715117,  1.12931083, -0.58921624,  0.35599501],\n",
       "       [ 0.26634068, -0.30771598, -0.44551453, -1.44099101],\n",
       "       [-0.606774  , -2.01252001,  0.31170174, -0.66492766],\n",
       "       [-0.53911928, -0.13845394, -2.60480996, -0.26969069],\n",
       "       [ 1.48612376, -0.28291348,  1.66293698,  0.7231839 ]])"
      ]
     },
     "execution_count": 14,
     "metadata": {},
     "output_type": "execute_result"
    }
   ],
   "source": [
    "df.values"
   ]
  },
  {
   "cell_type": "markdown",
   "id": "contemporary-browser",
   "metadata": {},
   "source": [
    "그리고 그 안에 들어가는 내용은 values 명령으로 확인할 수 있습니다. 또, info() 명령을 사용하면 DataFrame의 개요를 알 수 있습니다."
   ]
  },
  {
   "cell_type": "code",
   "execution_count": 15,
   "id": "choice-current",
   "metadata": {},
   "outputs": [
    {
     "name": "stdout",
     "output_type": "stream",
     "text": [
      "<class 'pandas.core.frame.DataFrame'>\n",
      "DatetimeIndex: 6 entries, 2013-01-01 to 2013-01-06\n",
      "Freq: D\n",
      "Data columns (total 4 columns):\n",
      " #   Column  Non-Null Count  Dtype  \n",
      "---  ------  --------------  -----  \n",
      " 0   A       6 non-null      float64\n",
      " 1   B       6 non-null      float64\n",
      " 2   C       6 non-null      float64\n",
      " 3   D       6 non-null      float64\n",
      "dtypes: float64(4)\n",
      "memory usage: 240.0 bytes\n"
     ]
    }
   ],
   "source": [
    "df.info()"
   ]
  },
  {
   "cell_type": "markdown",
   "id": "incomplete-hospital",
   "metadata": {},
   "source": [
    "describe 명령어는 통계적 개요를 확인 할 수 있습니다. 개수와 평균 뿐만 안니라 min,max와 각 1/4 지점,표준편차까지 한번에 알 수 있습니다."
   ]
  },
  {
   "cell_type": "code",
   "execution_count": 33,
   "id": "soviet-popularity",
   "metadata": {},
   "outputs": [
    {
     "data": {
      "text/html": [
       "<div>\n",
       "<style scoped>\n",
       "    .dataframe tbody tr th:only-of-type {\n",
       "        vertical-align: middle;\n",
       "    }\n",
       "\n",
       "    .dataframe tbody tr th {\n",
       "        vertical-align: top;\n",
       "    }\n",
       "\n",
       "    .dataframe thead th {\n",
       "        text-align: right;\n",
       "    }\n",
       "</style>\n",
       "<table border=\"1\" class=\"dataframe\">\n",
       "  <thead>\n",
       "    <tr style=\"text-align: right;\">\n",
       "      <th></th>\n",
       "      <th>A</th>\n",
       "      <th>B</th>\n",
       "      <th>C</th>\n",
       "      <th>D</th>\n",
       "    </tr>\n",
       "  </thead>\n",
       "  <tbody>\n",
       "    <tr>\n",
       "      <th>count</th>\n",
       "      <td>6.000000</td>\n",
       "      <td>6.000000</td>\n",
       "      <td>6.000000</td>\n",
       "      <td>6.000000</td>\n",
       "    </tr>\n",
       "    <tr>\n",
       "      <th>mean</th>\n",
       "      <td>-0.772053</td>\n",
       "      <td>0.150754</td>\n",
       "      <td>-0.074468</td>\n",
       "      <td>0.071860</td>\n",
       "    </tr>\n",
       "    <tr>\n",
       "      <th>std</th>\n",
       "      <td>0.530364</td>\n",
       "      <td>0.788382</td>\n",
       "      <td>1.013777</td>\n",
       "      <td>1.097032</td>\n",
       "    </tr>\n",
       "    <tr>\n",
       "      <th>min</th>\n",
       "      <td>-1.536493</td>\n",
       "      <td>-0.842260</td>\n",
       "      <td>-1.204190</td>\n",
       "      <td>-1.026288</td>\n",
       "    </tr>\n",
       "    <tr>\n",
       "      <th>25%</th>\n",
       "      <td>-0.970332</td>\n",
       "      <td>-0.280069</td>\n",
       "      <td>-0.823240</td>\n",
       "      <td>-0.723816</td>\n",
       "    </tr>\n",
       "    <tr>\n",
       "      <th>50%</th>\n",
       "      <td>-0.849833</td>\n",
       "      <td>-0.018580</td>\n",
       "      <td>-0.243227</td>\n",
       "      <td>-0.084972</td>\n",
       "    </tr>\n",
       "    <tr>\n",
       "      <th>75%</th>\n",
       "      <td>-0.523565</td>\n",
       "      <td>0.614569</td>\n",
       "      <td>0.664481</td>\n",
       "      <td>0.431380</td>\n",
       "    </tr>\n",
       "    <tr>\n",
       "      <th>max</th>\n",
       "      <td>0.029147</td>\n",
       "      <td>1.325557</td>\n",
       "      <td>1.293364</td>\n",
       "      <td>1.960662</td>\n",
       "    </tr>\n",
       "  </tbody>\n",
       "</table>\n",
       "</div>"
      ],
      "text/plain": [
       "              A         B         C         D\n",
       "count  6.000000  6.000000  6.000000  6.000000\n",
       "mean  -0.772053  0.150754 -0.074468  0.071860\n",
       "std    0.530364  0.788382  1.013777  1.097032\n",
       "min   -1.536493 -0.842260 -1.204190 -1.026288\n",
       "25%   -0.970332 -0.280069 -0.823240 -0.723816\n",
       "50%   -0.849833 -0.018580 -0.243227 -0.084972\n",
       "75%   -0.523565  0.614569  0.664481  0.431380\n",
       "max    0.029147  1.325557  1.293364  1.960662"
      ]
     },
     "execution_count": 33,
     "metadata": {},
     "output_type": "execute_result"
    }
   ],
   "source": [
    "df.describe()"
   ]
  },
  {
   "cell_type": "markdown",
   "id": "married-promise",
   "metadata": {},
   "source": [
    "이때 values가 숫자가 아니라 문자라고 하더라도 그에 맞는 개요가 나타납니다."
   ]
  },
  {
   "cell_type": "code",
   "execution_count": 16,
   "id": "failing-unemployment",
   "metadata": {},
   "outputs": [
    {
     "data": {
      "text/html": [
       "<div>\n",
       "<style scoped>\n",
       "    .dataframe tbody tr th:only-of-type {\n",
       "        vertical-align: middle;\n",
       "    }\n",
       "\n",
       "    .dataframe tbody tr th {\n",
       "        vertical-align: top;\n",
       "    }\n",
       "\n",
       "    .dataframe thead th {\n",
       "        text-align: right;\n",
       "    }\n",
       "</style>\n",
       "<table border=\"1\" class=\"dataframe\">\n",
       "  <thead>\n",
       "    <tr style=\"text-align: right;\">\n",
       "      <th></th>\n",
       "      <th>A</th>\n",
       "      <th>B</th>\n",
       "      <th>C</th>\n",
       "      <th>D</th>\n",
       "    </tr>\n",
       "  </thead>\n",
       "  <tbody>\n",
       "    <tr>\n",
       "      <th>2013-01-02</th>\n",
       "      <td>-0.017151</td>\n",
       "      <td>1.129311</td>\n",
       "      <td>-0.589216</td>\n",
       "      <td>0.355995</td>\n",
       "    </tr>\n",
       "    <tr>\n",
       "      <th>2013-01-01</th>\n",
       "      <td>-1.607562</td>\n",
       "      <td>-0.127998</td>\n",
       "      <td>-0.209677</td>\n",
       "      <td>-0.989399</td>\n",
       "    </tr>\n",
       "    <tr>\n",
       "      <th>2013-01-05</th>\n",
       "      <td>-0.539119</td>\n",
       "      <td>-0.138454</td>\n",
       "      <td>-2.604810</td>\n",
       "      <td>-0.269691</td>\n",
       "    </tr>\n",
       "    <tr>\n",
       "      <th>2013-01-06</th>\n",
       "      <td>1.486124</td>\n",
       "      <td>-0.282913</td>\n",
       "      <td>1.662937</td>\n",
       "      <td>0.723184</td>\n",
       "    </tr>\n",
       "    <tr>\n",
       "      <th>2013-01-03</th>\n",
       "      <td>0.266341</td>\n",
       "      <td>-0.307716</td>\n",
       "      <td>-0.445515</td>\n",
       "      <td>-1.440991</td>\n",
       "    </tr>\n",
       "    <tr>\n",
       "      <th>2013-01-04</th>\n",
       "      <td>-0.606774</td>\n",
       "      <td>-2.012520</td>\n",
       "      <td>0.311702</td>\n",
       "      <td>-0.664928</td>\n",
       "    </tr>\n",
       "  </tbody>\n",
       "</table>\n",
       "</div>"
      ],
      "text/plain": [
       "                   A         B         C         D\n",
       "2013-01-02 -0.017151  1.129311 -0.589216  0.355995\n",
       "2013-01-01 -1.607562 -0.127998 -0.209677 -0.989399\n",
       "2013-01-05 -0.539119 -0.138454 -2.604810 -0.269691\n",
       "2013-01-06  1.486124 -0.282913  1.662937  0.723184\n",
       "2013-01-03  0.266341 -0.307716 -0.445515 -1.440991\n",
       "2013-01-04 -0.606774 -2.012520  0.311702 -0.664928"
      ]
     },
     "execution_count": 16,
     "metadata": {},
     "output_type": "execute_result"
    }
   ],
   "source": [
    "df.sort_values(by='B', ascending=False)"
   ]
  },
  {
   "cell_type": "markdown",
   "id": "front-speaking",
   "metadata": {},
   "source": [
    "sort_values 명령은 by로 지정된 칼럼을 기준으로 정렬합니다. ascending 옵션을 사용하면 내림차순이나 오름차순으로 정렬시킬 수 있습니다."
   ]
  },
  {
   "cell_type": "code",
   "execution_count": 35,
   "id": "accompanied-madison",
   "metadata": {},
   "outputs": [
    {
     "data": {
      "text/html": [
       "<div>\n",
       "<style scoped>\n",
       "    .dataframe tbody tr th:only-of-type {\n",
       "        vertical-align: middle;\n",
       "    }\n",
       "\n",
       "    .dataframe tbody tr th {\n",
       "        vertical-align: top;\n",
       "    }\n",
       "\n",
       "    .dataframe thead th {\n",
       "        text-align: right;\n",
       "    }\n",
       "</style>\n",
       "<table border=\"1\" class=\"dataframe\">\n",
       "  <thead>\n",
       "    <tr style=\"text-align: right;\">\n",
       "      <th></th>\n",
       "      <th>A</th>\n",
       "      <th>B</th>\n",
       "      <th>C</th>\n",
       "      <th>D</th>\n",
       "    </tr>\n",
       "  </thead>\n",
       "  <tbody>\n",
       "    <tr>\n",
       "      <th>2013-01-01</th>\n",
       "      <td>0.029147</td>\n",
       "      <td>-0.347297</td>\n",
       "      <td>-0.808200</td>\n",
       "      <td>1.960662</td>\n",
       "    </tr>\n",
       "    <tr>\n",
       "      <th>2013-01-02</th>\n",
       "      <td>-1.536493</td>\n",
       "      <td>0.805683</td>\n",
       "      <td>0.321746</td>\n",
       "      <td>-0.885591</td>\n",
       "    </tr>\n",
       "    <tr>\n",
       "      <th>2013-01-03</th>\n",
       "      <td>-0.972634</td>\n",
       "      <td>0.041225</td>\n",
       "      <td>-0.828253</td>\n",
       "      <td>0.552323</td>\n",
       "    </tr>\n",
       "    <tr>\n",
       "      <th>2013-01-04</th>\n",
       "      <td>-0.736241</td>\n",
       "      <td>1.325557</td>\n",
       "      <td>-1.204190</td>\n",
       "      <td>-1.026288</td>\n",
       "    </tr>\n",
       "    <tr>\n",
       "      <th>2013-01-05</th>\n",
       "      <td>-0.452674</td>\n",
       "      <td>-0.842260</td>\n",
       "      <td>0.778726</td>\n",
       "      <td>0.068549</td>\n",
       "    </tr>\n",
       "    <tr>\n",
       "      <th>2013-01-06</th>\n",
       "      <td>-0.963425</td>\n",
       "      <td>-0.078385</td>\n",
       "      <td>1.293364</td>\n",
       "      <td>-0.238492</td>\n",
       "    </tr>\n",
       "  </tbody>\n",
       "</table>\n",
       "</div>"
      ],
      "text/plain": [
       "                   A         B         C         D\n",
       "2013-01-01  0.029147 -0.347297 -0.808200  1.960662\n",
       "2013-01-02 -1.536493  0.805683  0.321746 -0.885591\n",
       "2013-01-03 -0.972634  0.041225 -0.828253  0.552323\n",
       "2013-01-04 -0.736241  1.325557 -1.204190 -1.026288\n",
       "2013-01-05 -0.452674 -0.842260  0.778726  0.068549\n",
       "2013-01-06 -0.963425 -0.078385  1.293364 -0.238492"
      ]
     },
     "execution_count": 35,
     "metadata": {},
     "output_type": "execute_result"
    }
   ],
   "source": [
    "df"
   ]
  },
  {
   "cell_type": "markdown",
   "id": "helpful-directive",
   "metadata": {},
   "source": [
    "그냥 변수명을 적고 실행하면 그 내용이 나타납니다."
   ]
  },
  {
   "cell_type": "code",
   "execution_count": 17,
   "id": "independent-kenya",
   "metadata": {},
   "outputs": [
    {
     "data": {
      "text/plain": [
       "2013-01-01   -1.607562\n",
       "2013-01-02   -0.017151\n",
       "2013-01-03    0.266341\n",
       "2013-01-04   -0.606774\n",
       "2013-01-05   -0.539119\n",
       "2013-01-06    1.486124\n",
       "Freq: D, Name: A, dtype: float64"
      ]
     },
     "execution_count": 17,
     "metadata": {},
     "output_type": "execute_result"
    }
   ],
   "source": [
    "df['A']"
   ]
  },
  {
   "cell_type": "markdown",
   "id": "appointed-newton",
   "metadata": {},
   "source": [
    "DataFrame으로 선언된 변수의 경우 변수명 뒤에['A']와 같이 붙여주면 헤당 컬럼만 Series로 보여줍니다. 물론 head()라는 명령이 있지만 중간부터 보고 싶다면 행의 범위만 지정해서 df[0:3]이라고 하면 됩니다."
   ]
  },
  {
   "cell_type": "code",
   "execution_count": 37,
   "id": "public-trick",
   "metadata": {},
   "outputs": [
    {
     "data": {
      "text/html": [
       "<div>\n",
       "<style scoped>\n",
       "    .dataframe tbody tr th:only-of-type {\n",
       "        vertical-align: middle;\n",
       "    }\n",
       "\n",
       "    .dataframe tbody tr th {\n",
       "        vertical-align: top;\n",
       "    }\n",
       "\n",
       "    .dataframe thead th {\n",
       "        text-align: right;\n",
       "    }\n",
       "</style>\n",
       "<table border=\"1\" class=\"dataframe\">\n",
       "  <thead>\n",
       "    <tr style=\"text-align: right;\">\n",
       "      <th></th>\n",
       "      <th>A</th>\n",
       "      <th>B</th>\n",
       "      <th>C</th>\n",
       "      <th>D</th>\n",
       "    </tr>\n",
       "  </thead>\n",
       "  <tbody>\n",
       "    <tr>\n",
       "      <th>2013-01-01</th>\n",
       "      <td>0.029147</td>\n",
       "      <td>-0.347297</td>\n",
       "      <td>-0.808200</td>\n",
       "      <td>1.960662</td>\n",
       "    </tr>\n",
       "    <tr>\n",
       "      <th>2013-01-02</th>\n",
       "      <td>-1.536493</td>\n",
       "      <td>0.805683</td>\n",
       "      <td>0.321746</td>\n",
       "      <td>-0.885591</td>\n",
       "    </tr>\n",
       "    <tr>\n",
       "      <th>2013-01-03</th>\n",
       "      <td>-0.972634</td>\n",
       "      <td>0.041225</td>\n",
       "      <td>-0.828253</td>\n",
       "      <td>0.552323</td>\n",
       "    </tr>\n",
       "  </tbody>\n",
       "</table>\n",
       "</div>"
      ],
      "text/plain": [
       "                   A         B         C         D\n",
       "2013-01-01  0.029147 -0.347297 -0.808200  1.960662\n",
       "2013-01-02 -1.536493  0.805683  0.321746 -0.885591\n",
       "2013-01-03 -0.972634  0.041225 -0.828253  0.552323"
      ]
     },
     "execution_count": 37,
     "metadata": {},
     "output_type": "execute_result"
    }
   ],
   "source": [
    "df[0:3]"
   ]
  },
  {
   "cell_type": "markdown",
   "id": "olive-notification",
   "metadata": {},
   "source": [
    "만약 2013.01.02부터 2013.01.04까지의 행을 보고 싶다면"
   ]
  },
  {
   "cell_type": "code",
   "execution_count": 18,
   "id": "still-killer",
   "metadata": {},
   "outputs": [
    {
     "data": {
      "text/html": [
       "<div>\n",
       "<style scoped>\n",
       "    .dataframe tbody tr th:only-of-type {\n",
       "        vertical-align: middle;\n",
       "    }\n",
       "\n",
       "    .dataframe tbody tr th {\n",
       "        vertical-align: top;\n",
       "    }\n",
       "\n",
       "    .dataframe thead th {\n",
       "        text-align: right;\n",
       "    }\n",
       "</style>\n",
       "<table border=\"1\" class=\"dataframe\">\n",
       "  <thead>\n",
       "    <tr style=\"text-align: right;\">\n",
       "      <th></th>\n",
       "      <th>A</th>\n",
       "      <th>B</th>\n",
       "      <th>C</th>\n",
       "      <th>D</th>\n",
       "    </tr>\n",
       "  </thead>\n",
       "  <tbody>\n",
       "    <tr>\n",
       "      <th>2013-01-02</th>\n",
       "      <td>-0.017151</td>\n",
       "      <td>1.129311</td>\n",
       "      <td>-0.589216</td>\n",
       "      <td>0.355995</td>\n",
       "    </tr>\n",
       "    <tr>\n",
       "      <th>2013-01-03</th>\n",
       "      <td>0.266341</td>\n",
       "      <td>-0.307716</td>\n",
       "      <td>-0.445515</td>\n",
       "      <td>-1.440991</td>\n",
       "    </tr>\n",
       "    <tr>\n",
       "      <th>2013-01-04</th>\n",
       "      <td>-0.606774</td>\n",
       "      <td>-2.012520</td>\n",
       "      <td>0.311702</td>\n",
       "      <td>-0.664928</td>\n",
       "    </tr>\n",
       "  </tbody>\n",
       "</table>\n",
       "</div>"
      ],
      "text/plain": [
       "                   A         B         C         D\n",
       "2013-01-02 -0.017151  1.129311 -0.589216  0.355995\n",
       "2013-01-03  0.266341 -0.307716 -0.445515 -1.440991\n",
       "2013-01-04 -0.606774 -2.012520  0.311702 -0.664928"
      ]
     },
     "execution_count": 18,
     "metadata": {},
     "output_type": "execute_result"
    }
   ],
   "source": [
    "df['20130102':'20130104']"
   ]
  },
  {
   "cell_type": "markdown",
   "id": "identified-hygiene",
   "metadata": {},
   "source": [
    "dates 변수를 이용해서 특정 날짜의 데이터만 보고 싶으면 df.loc 명령을 사용하면 됩니다."
   ]
  },
  {
   "cell_type": "code",
   "execution_count": 39,
   "id": "single-wells",
   "metadata": {},
   "outputs": [
    {
     "data": {
      "text/plain": [
       "A    0.029147\n",
       "B   -0.347297\n",
       "C   -0.808200\n",
       "D    1.960662\n",
       "Name: 2013-01-01 00:00:00, dtype: float64"
      ]
     },
     "execution_count": 39,
     "metadata": {},
     "output_type": "execute_result"
    }
   ],
   "source": [
    "df.loc[dates[0]]"
   ]
  },
  {
   "cell_type": "markdown",
   "id": "motivated-retailer",
   "metadata": {},
   "source": [
    "A,B열의 모든 행을 보고 싶다면"
   ]
  },
  {
   "cell_type": "code",
   "execution_count": 19,
   "id": "chicken-society",
   "metadata": {},
   "outputs": [
    {
     "data": {
      "text/html": [
       "<div>\n",
       "<style scoped>\n",
       "    .dataframe tbody tr th:only-of-type {\n",
       "        vertical-align: middle;\n",
       "    }\n",
       "\n",
       "    .dataframe tbody tr th {\n",
       "        vertical-align: top;\n",
       "    }\n",
       "\n",
       "    .dataframe thead th {\n",
       "        text-align: right;\n",
       "    }\n",
       "</style>\n",
       "<table border=\"1\" class=\"dataframe\">\n",
       "  <thead>\n",
       "    <tr style=\"text-align: right;\">\n",
       "      <th></th>\n",
       "      <th>A</th>\n",
       "      <th>B</th>\n",
       "    </tr>\n",
       "  </thead>\n",
       "  <tbody>\n",
       "    <tr>\n",
       "      <th>2013-01-01</th>\n",
       "      <td>-1.607562</td>\n",
       "      <td>-0.127998</td>\n",
       "    </tr>\n",
       "    <tr>\n",
       "      <th>2013-01-02</th>\n",
       "      <td>-0.017151</td>\n",
       "      <td>1.129311</td>\n",
       "    </tr>\n",
       "    <tr>\n",
       "      <th>2013-01-03</th>\n",
       "      <td>0.266341</td>\n",
       "      <td>-0.307716</td>\n",
       "    </tr>\n",
       "    <tr>\n",
       "      <th>2013-01-04</th>\n",
       "      <td>-0.606774</td>\n",
       "      <td>-2.012520</td>\n",
       "    </tr>\n",
       "    <tr>\n",
       "      <th>2013-01-05</th>\n",
       "      <td>-0.539119</td>\n",
       "      <td>-0.138454</td>\n",
       "    </tr>\n",
       "    <tr>\n",
       "      <th>2013-01-06</th>\n",
       "      <td>1.486124</td>\n",
       "      <td>-0.282913</td>\n",
       "    </tr>\n",
       "  </tbody>\n",
       "</table>\n",
       "</div>"
      ],
      "text/plain": [
       "                   A         B\n",
       "2013-01-01 -1.607562 -0.127998\n",
       "2013-01-02 -0.017151  1.129311\n",
       "2013-01-03  0.266341 -0.307716\n",
       "2013-01-04 -0.606774 -2.012520\n",
       "2013-01-05 -0.539119 -0.138454\n",
       "2013-01-06  1.486124 -0.282913"
      ]
     },
     "execution_count": 19,
     "metadata": {},
     "output_type": "execute_result"
    }
   ],
   "source": [
    "df.loc[:,['A','B']]"
   ]
  },
  {
   "cell_type": "markdown",
   "id": "general-advancement",
   "metadata": {},
   "source": [
    "행과 열의 범위를 모두 지정할 수도 있습니다."
   ]
  },
  {
   "cell_type": "code",
   "execution_count": 41,
   "id": "found-adult",
   "metadata": {},
   "outputs": [
    {
     "data": {
      "text/html": [
       "<div>\n",
       "<style scoped>\n",
       "    .dataframe tbody tr th:only-of-type {\n",
       "        vertical-align: middle;\n",
       "    }\n",
       "\n",
       "    .dataframe tbody tr th {\n",
       "        vertical-align: top;\n",
       "    }\n",
       "\n",
       "    .dataframe thead th {\n",
       "        text-align: right;\n",
       "    }\n",
       "</style>\n",
       "<table border=\"1\" class=\"dataframe\">\n",
       "  <thead>\n",
       "    <tr style=\"text-align: right;\">\n",
       "      <th></th>\n",
       "      <th>A</th>\n",
       "      <th>B</th>\n",
       "    </tr>\n",
       "  </thead>\n",
       "  <tbody>\n",
       "    <tr>\n",
       "      <th>2013-01-02</th>\n",
       "      <td>-1.536493</td>\n",
       "      <td>0.805683</td>\n",
       "    </tr>\n",
       "    <tr>\n",
       "      <th>2013-01-03</th>\n",
       "      <td>-0.972634</td>\n",
       "      <td>0.041225</td>\n",
       "    </tr>\n",
       "    <tr>\n",
       "      <th>2013-01-04</th>\n",
       "      <td>-0.736241</td>\n",
       "      <td>1.325557</td>\n",
       "    </tr>\n",
       "  </tbody>\n",
       "</table>\n",
       "</div>"
      ],
      "text/plain": [
       "                   A         B\n",
       "2013-01-02 -1.536493  0.805683\n",
       "2013-01-03 -0.972634  0.041225\n",
       "2013-01-04 -0.736241  1.325557"
      ]
     },
     "execution_count": 41,
     "metadata": {},
     "output_type": "execute_result"
    }
   ],
   "source": [
    "df.loc['20130102':'20130104',['A','B']]"
   ]
  },
  {
   "cell_type": "markdown",
   "id": "white-given",
   "metadata": {},
   "source": [
    "2013년 1월 2일부터 2013년 1월 4일까지의 데이터중 A와 B 컬럼의 데이터만 선택하는것입니다."
   ]
  },
  {
   "cell_type": "code",
   "execution_count": 20,
   "id": "excess-short",
   "metadata": {},
   "outputs": [
    {
     "data": {
      "text/plain": [
       "A   -0.017151\n",
       "B    1.129311\n",
       "Name: 2013-01-02 00:00:00, dtype: float64"
      ]
     },
     "execution_count": 20,
     "metadata": {},
     "output_type": "execute_result"
    }
   ],
   "source": [
    "df.loc['20130102',['A','B']]"
   ]
  },
  {
   "cell_type": "markdown",
   "id": "accredited-background",
   "metadata": {},
   "source": [
    "또, 2013년 1월 2일의 A,B 컬럼의 내용을 확인하는 것입니다."
   ]
  },
  {
   "cell_type": "code",
   "execution_count": 21,
   "id": "round-letters",
   "metadata": {},
   "outputs": [
    {
     "data": {
      "text/plain": [
       "-1.6075623572960567"
      ]
     },
     "execution_count": 21,
     "metadata": {},
     "output_type": "execute_result"
    }
   ],
   "source": [
    "df.loc[dates[0],'A']"
   ]
  },
  {
   "cell_type": "markdown",
   "id": "israeli-mediterranean",
   "metadata": {},
   "source": [
    "dates[0]에 맞는 날짜인 2013년 1월 1일에 A컴럼의 데이터만 확인할 수 있습니다. <tr>\n",
    "그러나 loc 명령과 달리 행과 열의 번호를 이용해서 데이터에 바로 접근하고 싶을 수 있는데, 그 명령이 iloc입니다. iloc를 사용하면 행이나 열의 범위를 지정하면 됩니다. 특히 콜론(:)을 사용하면 전체를 의미합니다."
   ]
  },
  {
   "cell_type": "code",
   "execution_count": 22,
   "id": "adopted-swift",
   "metadata": {},
   "outputs": [
    {
     "data": {
      "text/plain": [
       "A   -0.606774\n",
       "B   -2.012520\n",
       "C    0.311702\n",
       "D   -0.664928\n",
       "Name: 2013-01-04 00:00:00, dtype: float64"
      ]
     },
     "execution_count": 22,
     "metadata": {},
     "output_type": "execute_result"
    }
   ],
   "source": [
    "df.iloc[3]"
   ]
  },
  {
   "cell_type": "markdown",
   "id": "adjacent-vertical",
   "metadata": {},
   "source": [
    "먼저 iloc에 단지 숫자만 표시하면 3번 행을 의미합니다. (0번부터 시작하니깐 4번 행이 됩니다.)"
   ]
  },
  {
   "cell_type": "code",
   "execution_count": 23,
   "id": "hydraulic-scanner",
   "metadata": {},
   "outputs": [
    {
     "data": {
      "text/html": [
       "<div>\n",
       "<style scoped>\n",
       "    .dataframe tbody tr th:only-of-type {\n",
       "        vertical-align: middle;\n",
       "    }\n",
       "\n",
       "    .dataframe tbody tr th {\n",
       "        vertical-align: top;\n",
       "    }\n",
       "\n",
       "    .dataframe thead th {\n",
       "        text-align: right;\n",
       "    }\n",
       "</style>\n",
       "<table border=\"1\" class=\"dataframe\">\n",
       "  <thead>\n",
       "    <tr style=\"text-align: right;\">\n",
       "      <th></th>\n",
       "      <th>A</th>\n",
       "      <th>B</th>\n",
       "    </tr>\n",
       "  </thead>\n",
       "  <tbody>\n",
       "    <tr>\n",
       "      <th>2013-01-04</th>\n",
       "      <td>-0.606774</td>\n",
       "      <td>-2.012520</td>\n",
       "    </tr>\n",
       "    <tr>\n",
       "      <th>2013-01-05</th>\n",
       "      <td>-0.539119</td>\n",
       "      <td>-0.138454</td>\n",
       "    </tr>\n",
       "  </tbody>\n",
       "</table>\n",
       "</div>"
      ],
      "text/plain": [
       "                   A         B\n",
       "2013-01-04 -0.606774 -2.012520\n",
       "2013-01-05 -0.539119 -0.138454"
      ]
     },
     "execution_count": 23,
     "metadata": {},
     "output_type": "execute_result"
    }
   ],
   "source": [
    "df.iloc[3:5,0:2]"
   ]
  },
  {
   "cell_type": "markdown",
   "id": "bearing-mainstream",
   "metadata": {},
   "source": [
    "또 3번째부터 5번째 앞, 즉 3번째부터 4번째까지 행과 0번부터 1번까지 열의 데이터만 가져올 수 있습니다."
   ]
  },
  {
   "cell_type": "code",
   "execution_count": 24,
   "id": "ongoing-cable",
   "metadata": {},
   "outputs": [
    {
     "data": {
      "text/html": [
       "<div>\n",
       "<style scoped>\n",
       "    .dataframe tbody tr th:only-of-type {\n",
       "        vertical-align: middle;\n",
       "    }\n",
       "\n",
       "    .dataframe tbody tr th {\n",
       "        vertical-align: top;\n",
       "    }\n",
       "\n",
       "    .dataframe thead th {\n",
       "        text-align: right;\n",
       "    }\n",
       "</style>\n",
       "<table border=\"1\" class=\"dataframe\">\n",
       "  <thead>\n",
       "    <tr style=\"text-align: right;\">\n",
       "      <th></th>\n",
       "      <th>A</th>\n",
       "      <th>C</th>\n",
       "    </tr>\n",
       "  </thead>\n",
       "  <tbody>\n",
       "    <tr>\n",
       "      <th>2013-01-02</th>\n",
       "      <td>-0.017151</td>\n",
       "      <td>-0.589216</td>\n",
       "    </tr>\n",
       "    <tr>\n",
       "      <th>2013-01-03</th>\n",
       "      <td>0.266341</td>\n",
       "      <td>-0.445515</td>\n",
       "    </tr>\n",
       "    <tr>\n",
       "      <th>2013-01-05</th>\n",
       "      <td>-0.539119</td>\n",
       "      <td>-2.604810</td>\n",
       "    </tr>\n",
       "  </tbody>\n",
       "</table>\n",
       "</div>"
      ],
      "text/plain": [
       "                   A         C\n",
       "2013-01-02 -0.017151 -0.589216\n",
       "2013-01-03  0.266341 -0.445515\n",
       "2013-01-05 -0.539119 -2.604810"
      ]
     },
     "execution_count": 24,
     "metadata": {},
     "output_type": "execute_result"
    }
   ],
   "source": [
    "df.iloc[[1,2,4],[0,2]]"
   ]
  },
  {
   "cell_type": "markdown",
   "id": "digital-bathroom",
   "metadata": {},
   "source": [
    "또 범위가 아니라 콤마로 행이나 열을 지정해서 테이터를 가져올 수 있습니다. 행이나 열에 대해 한쪽은 전체를 의미하게 하고 싶을 때는 그냥 콜론만 사용하면 됩니다."
   ]
  },
  {
   "cell_type": "code",
   "execution_count": 25,
   "id": "frequent-egyptian",
   "metadata": {},
   "outputs": [
    {
     "data": {
      "text/html": [
       "<div>\n",
       "<style scoped>\n",
       "    .dataframe tbody tr th:only-of-type {\n",
       "        vertical-align: middle;\n",
       "    }\n",
       "\n",
       "    .dataframe tbody tr th {\n",
       "        vertical-align: top;\n",
       "    }\n",
       "\n",
       "    .dataframe thead th {\n",
       "        text-align: right;\n",
       "    }\n",
       "</style>\n",
       "<table border=\"1\" class=\"dataframe\">\n",
       "  <thead>\n",
       "    <tr style=\"text-align: right;\">\n",
       "      <th></th>\n",
       "      <th>A</th>\n",
       "      <th>B</th>\n",
       "      <th>C</th>\n",
       "      <th>D</th>\n",
       "    </tr>\n",
       "  </thead>\n",
       "  <tbody>\n",
       "    <tr>\n",
       "      <th>2013-01-02</th>\n",
       "      <td>-0.017151</td>\n",
       "      <td>1.129311</td>\n",
       "      <td>-0.589216</td>\n",
       "      <td>0.355995</td>\n",
       "    </tr>\n",
       "    <tr>\n",
       "      <th>2013-01-03</th>\n",
       "      <td>0.266341</td>\n",
       "      <td>-0.307716</td>\n",
       "      <td>-0.445515</td>\n",
       "      <td>-1.440991</td>\n",
       "    </tr>\n",
       "  </tbody>\n",
       "</table>\n",
       "</div>"
      ],
      "text/plain": [
       "                   A         B         C         D\n",
       "2013-01-02 -0.017151  1.129311 -0.589216  0.355995\n",
       "2013-01-03  0.266341 -0.307716 -0.445515 -1.440991"
      ]
     },
     "execution_count": 25,
     "metadata": {},
     "output_type": "execute_result"
    }
   ],
   "source": [
    "df.iloc[1:3,:]"
   ]
  },
  {
   "cell_type": "markdown",
   "id": "regulation-helmet",
   "metadata": {},
   "source": [
    "이렇게 행은 범위를 주고, 열은 콜론으로 전체를 의미하게 하는 것입니다."
   ]
  },
  {
   "cell_type": "code",
   "execution_count": 26,
   "id": "logical-motion",
   "metadata": {},
   "outputs": [
    {
     "data": {
      "text/html": [
       "<div>\n",
       "<style scoped>\n",
       "    .dataframe tbody tr th:only-of-type {\n",
       "        vertical-align: middle;\n",
       "    }\n",
       "\n",
       "    .dataframe tbody tr th {\n",
       "        vertical-align: top;\n",
       "    }\n",
       "\n",
       "    .dataframe thead th {\n",
       "        text-align: right;\n",
       "    }\n",
       "</style>\n",
       "<table border=\"1\" class=\"dataframe\">\n",
       "  <thead>\n",
       "    <tr style=\"text-align: right;\">\n",
       "      <th></th>\n",
       "      <th>B</th>\n",
       "      <th>C</th>\n",
       "    </tr>\n",
       "  </thead>\n",
       "  <tbody>\n",
       "    <tr>\n",
       "      <th>2013-01-01</th>\n",
       "      <td>-0.127998</td>\n",
       "      <td>-0.209677</td>\n",
       "    </tr>\n",
       "    <tr>\n",
       "      <th>2013-01-02</th>\n",
       "      <td>1.129311</td>\n",
       "      <td>-0.589216</td>\n",
       "    </tr>\n",
       "    <tr>\n",
       "      <th>2013-01-03</th>\n",
       "      <td>-0.307716</td>\n",
       "      <td>-0.445515</td>\n",
       "    </tr>\n",
       "    <tr>\n",
       "      <th>2013-01-04</th>\n",
       "      <td>-2.012520</td>\n",
       "      <td>0.311702</td>\n",
       "    </tr>\n",
       "    <tr>\n",
       "      <th>2013-01-05</th>\n",
       "      <td>-0.138454</td>\n",
       "      <td>-2.604810</td>\n",
       "    </tr>\n",
       "    <tr>\n",
       "      <th>2013-01-06</th>\n",
       "      <td>-0.282913</td>\n",
       "      <td>1.662937</td>\n",
       "    </tr>\n",
       "  </tbody>\n",
       "</table>\n",
       "</div>"
      ],
      "text/plain": [
       "                   B         C\n",
       "2013-01-01 -0.127998 -0.209677\n",
       "2013-01-02  1.129311 -0.589216\n",
       "2013-01-03 -0.307716 -0.445515\n",
       "2013-01-04 -2.012520  0.311702\n",
       "2013-01-05 -0.138454 -2.604810\n",
       "2013-01-06 -0.282913  1.662937"
      ]
     },
     "execution_count": 26,
     "metadata": {},
     "output_type": "execute_result"
    }
   ],
   "source": [
    "df.iloc[:,1:3]"
   ]
  },
  {
   "cell_type": "markdown",
   "id": "documentary-going",
   "metadata": {},
   "source": [
    "반대로 행을 전체로 선택했습니다. 다시 df를 호출하겠습니다."
   ]
  },
  {
   "cell_type": "code",
   "execution_count": 27,
   "id": "suspended-occasion",
   "metadata": {},
   "outputs": [
    {
     "data": {
      "text/html": [
       "<div>\n",
       "<style scoped>\n",
       "    .dataframe tbody tr th:only-of-type {\n",
       "        vertical-align: middle;\n",
       "    }\n",
       "\n",
       "    .dataframe tbody tr th {\n",
       "        vertical-align: top;\n",
       "    }\n",
       "\n",
       "    .dataframe thead th {\n",
       "        text-align: right;\n",
       "    }\n",
       "</style>\n",
       "<table border=\"1\" class=\"dataframe\">\n",
       "  <thead>\n",
       "    <tr style=\"text-align: right;\">\n",
       "      <th></th>\n",
       "      <th>A</th>\n",
       "      <th>B</th>\n",
       "      <th>C</th>\n",
       "      <th>D</th>\n",
       "    </tr>\n",
       "  </thead>\n",
       "  <tbody>\n",
       "    <tr>\n",
       "      <th>2013-01-01</th>\n",
       "      <td>-1.607562</td>\n",
       "      <td>-0.127998</td>\n",
       "      <td>-0.209677</td>\n",
       "      <td>-0.989399</td>\n",
       "    </tr>\n",
       "    <tr>\n",
       "      <th>2013-01-02</th>\n",
       "      <td>-0.017151</td>\n",
       "      <td>1.129311</td>\n",
       "      <td>-0.589216</td>\n",
       "      <td>0.355995</td>\n",
       "    </tr>\n",
       "    <tr>\n",
       "      <th>2013-01-03</th>\n",
       "      <td>0.266341</td>\n",
       "      <td>-0.307716</td>\n",
       "      <td>-0.445515</td>\n",
       "      <td>-1.440991</td>\n",
       "    </tr>\n",
       "    <tr>\n",
       "      <th>2013-01-04</th>\n",
       "      <td>-0.606774</td>\n",
       "      <td>-2.012520</td>\n",
       "      <td>0.311702</td>\n",
       "      <td>-0.664928</td>\n",
       "    </tr>\n",
       "    <tr>\n",
       "      <th>2013-01-05</th>\n",
       "      <td>-0.539119</td>\n",
       "      <td>-0.138454</td>\n",
       "      <td>-2.604810</td>\n",
       "      <td>-0.269691</td>\n",
       "    </tr>\n",
       "    <tr>\n",
       "      <th>2013-01-06</th>\n",
       "      <td>1.486124</td>\n",
       "      <td>-0.282913</td>\n",
       "      <td>1.662937</td>\n",
       "      <td>0.723184</td>\n",
       "    </tr>\n",
       "  </tbody>\n",
       "</table>\n",
       "</div>"
      ],
      "text/plain": [
       "                   A         B         C         D\n",
       "2013-01-01 -1.607562 -0.127998 -0.209677 -0.989399\n",
       "2013-01-02 -0.017151  1.129311 -0.589216  0.355995\n",
       "2013-01-03  0.266341 -0.307716 -0.445515 -1.440991\n",
       "2013-01-04 -0.606774 -2.012520  0.311702 -0.664928\n",
       "2013-01-05 -0.539119 -0.138454 -2.604810 -0.269691\n",
       "2013-01-06  1.486124 -0.282913  1.662937  0.723184"
      ]
     },
     "execution_count": 27,
     "metadata": {},
     "output_type": "execute_result"
    }
   ],
   "source": [
    "df"
   ]
  },
  {
   "cell_type": "markdown",
   "id": "proper-gregory",
   "metadata": {},
   "source": [
    "DataFrame에서 특정 조건을 만족하는 데이터만 얻을 수 있습니다. 컬럼을 지정할 때 df['A']처럼 할 수도 있고, df.A와 같이 할 수도 있습니다. 컬럼 A에서 0보다 큰 행만 얻는 것입니다."
   ]
  },
  {
   "cell_type": "code",
   "execution_count": 28,
   "id": "amateur-chester",
   "metadata": {},
   "outputs": [
    {
     "data": {
      "text/html": [
       "<div>\n",
       "<style scoped>\n",
       "    .dataframe tbody tr th:only-of-type {\n",
       "        vertical-align: middle;\n",
       "    }\n",
       "\n",
       "    .dataframe tbody tr th {\n",
       "        vertical-align: top;\n",
       "    }\n",
       "\n",
       "    .dataframe thead th {\n",
       "        text-align: right;\n",
       "    }\n",
       "</style>\n",
       "<table border=\"1\" class=\"dataframe\">\n",
       "  <thead>\n",
       "    <tr style=\"text-align: right;\">\n",
       "      <th></th>\n",
       "      <th>A</th>\n",
       "      <th>B</th>\n",
       "      <th>C</th>\n",
       "      <th>D</th>\n",
       "    </tr>\n",
       "  </thead>\n",
       "  <tbody>\n",
       "    <tr>\n",
       "      <th>2013-01-03</th>\n",
       "      <td>0.266341</td>\n",
       "      <td>-0.307716</td>\n",
       "      <td>-0.445515</td>\n",
       "      <td>-1.440991</td>\n",
       "    </tr>\n",
       "    <tr>\n",
       "      <th>2013-01-06</th>\n",
       "      <td>1.486124</td>\n",
       "      <td>-0.282913</td>\n",
       "      <td>1.662937</td>\n",
       "      <td>0.723184</td>\n",
       "    </tr>\n",
       "  </tbody>\n",
       "</table>\n",
       "</div>"
      ],
      "text/plain": [
       "                   A         B         C         D\n",
       "2013-01-03  0.266341 -0.307716 -0.445515 -1.440991\n",
       "2013-01-06  1.486124 -0.282913  1.662937  0.723184"
      ]
     },
     "execution_count": 28,
     "metadata": {},
     "output_type": "execute_result"
    }
   ],
   "source": [
    "df[df.A > 0]"
   ]
  },
  {
   "cell_type": "markdown",
   "id": "standard-johnston",
   "metadata": {},
   "source": [
    "데이터 전체에서 조건을 걸면 만족하지 않은 곳은 NaN 처리가 됩니다."
   ]
  },
  {
   "cell_type": "code",
   "execution_count": 29,
   "id": "conservative-addiction",
   "metadata": {},
   "outputs": [
    {
     "data": {
      "text/html": [
       "<div>\n",
       "<style scoped>\n",
       "    .dataframe tbody tr th:only-of-type {\n",
       "        vertical-align: middle;\n",
       "    }\n",
       "\n",
       "    .dataframe tbody tr th {\n",
       "        vertical-align: top;\n",
       "    }\n",
       "\n",
       "    .dataframe thead th {\n",
       "        text-align: right;\n",
       "    }\n",
       "</style>\n",
       "<table border=\"1\" class=\"dataframe\">\n",
       "  <thead>\n",
       "    <tr style=\"text-align: right;\">\n",
       "      <th></th>\n",
       "      <th>A</th>\n",
       "      <th>B</th>\n",
       "      <th>C</th>\n",
       "      <th>D</th>\n",
       "    </tr>\n",
       "  </thead>\n",
       "  <tbody>\n",
       "    <tr>\n",
       "      <th>2013-01-01</th>\n",
       "      <td>NaN</td>\n",
       "      <td>NaN</td>\n",
       "      <td>NaN</td>\n",
       "      <td>NaN</td>\n",
       "    </tr>\n",
       "    <tr>\n",
       "      <th>2013-01-02</th>\n",
       "      <td>NaN</td>\n",
       "      <td>1.129311</td>\n",
       "      <td>NaN</td>\n",
       "      <td>0.355995</td>\n",
       "    </tr>\n",
       "    <tr>\n",
       "      <th>2013-01-03</th>\n",
       "      <td>0.266341</td>\n",
       "      <td>NaN</td>\n",
       "      <td>NaN</td>\n",
       "      <td>NaN</td>\n",
       "    </tr>\n",
       "    <tr>\n",
       "      <th>2013-01-04</th>\n",
       "      <td>NaN</td>\n",
       "      <td>NaN</td>\n",
       "      <td>0.311702</td>\n",
       "      <td>NaN</td>\n",
       "    </tr>\n",
       "    <tr>\n",
       "      <th>2013-01-05</th>\n",
       "      <td>NaN</td>\n",
       "      <td>NaN</td>\n",
       "      <td>NaN</td>\n",
       "      <td>NaN</td>\n",
       "    </tr>\n",
       "    <tr>\n",
       "      <th>2013-01-06</th>\n",
       "      <td>1.486124</td>\n",
       "      <td>NaN</td>\n",
       "      <td>1.662937</td>\n",
       "      <td>0.723184</td>\n",
       "    </tr>\n",
       "  </tbody>\n",
       "</table>\n",
       "</div>"
      ],
      "text/plain": [
       "                   A         B         C         D\n",
       "2013-01-01       NaN       NaN       NaN       NaN\n",
       "2013-01-02       NaN  1.129311       NaN  0.355995\n",
       "2013-01-03  0.266341       NaN       NaN       NaN\n",
       "2013-01-04       NaN       NaN  0.311702       NaN\n",
       "2013-01-05       NaN       NaN       NaN       NaN\n",
       "2013-01-06  1.486124       NaN  1.662937  0.723184"
      ]
     },
     "execution_count": 29,
     "metadata": {},
     "output_type": "execute_result"
    }
   ],
   "source": [
    "df[df > 0]"
   ]
  },
  {
   "cell_type": "markdown",
   "id": "similar-pressing",
   "metadata": {},
   "source": [
    "DataFrame을 복사할 때는 그냥 = 기호를 이용해서 복사해면 실제 데이터의 내용이 복사되는 것이 아니라 데이터 위치만 복사되기 때문에 원본 데이터는 하나만 있게 됩니다."
   ]
  },
  {
   "cell_type": "code",
   "execution_count": 30,
   "id": "expected-situation",
   "metadata": {},
   "outputs": [],
   "source": [
    "df2 = df.copy()"
   ]
  },
  {
   "cell_type": "markdown",
   "id": "twelve-reach",
   "metadata": {},
   "source": [
    "데이터의 내용까지 복사하라는 지령은 copy() 옵션을 붙여 넣으면 됩니다."
   ]
  },
  {
   "cell_type": "code",
   "execution_count": 31,
   "id": "czech-peeing",
   "metadata": {},
   "outputs": [
    {
     "data": {
      "text/html": [
       "<div>\n",
       "<style scoped>\n",
       "    .dataframe tbody tr th:only-of-type {\n",
       "        vertical-align: middle;\n",
       "    }\n",
       "\n",
       "    .dataframe tbody tr th {\n",
       "        vertical-align: top;\n",
       "    }\n",
       "\n",
       "    .dataframe thead th {\n",
       "        text-align: right;\n",
       "    }\n",
       "</style>\n",
       "<table border=\"1\" class=\"dataframe\">\n",
       "  <thead>\n",
       "    <tr style=\"text-align: right;\">\n",
       "      <th></th>\n",
       "      <th>A</th>\n",
       "      <th>B</th>\n",
       "      <th>C</th>\n",
       "      <th>D</th>\n",
       "      <th>E</th>\n",
       "    </tr>\n",
       "  </thead>\n",
       "  <tbody>\n",
       "    <tr>\n",
       "      <th>2013-01-01</th>\n",
       "      <td>-1.607562</td>\n",
       "      <td>-0.127998</td>\n",
       "      <td>-0.209677</td>\n",
       "      <td>-0.989399</td>\n",
       "      <td>one</td>\n",
       "    </tr>\n",
       "    <tr>\n",
       "      <th>2013-01-02</th>\n",
       "      <td>-0.017151</td>\n",
       "      <td>1.129311</td>\n",
       "      <td>-0.589216</td>\n",
       "      <td>0.355995</td>\n",
       "      <td>one</td>\n",
       "    </tr>\n",
       "    <tr>\n",
       "      <th>2013-01-03</th>\n",
       "      <td>0.266341</td>\n",
       "      <td>-0.307716</td>\n",
       "      <td>-0.445515</td>\n",
       "      <td>-1.440991</td>\n",
       "      <td>two</td>\n",
       "    </tr>\n",
       "    <tr>\n",
       "      <th>2013-01-04</th>\n",
       "      <td>-0.606774</td>\n",
       "      <td>-2.012520</td>\n",
       "      <td>0.311702</td>\n",
       "      <td>-0.664928</td>\n",
       "      <td>three</td>\n",
       "    </tr>\n",
       "    <tr>\n",
       "      <th>2013-01-05</th>\n",
       "      <td>-0.539119</td>\n",
       "      <td>-0.138454</td>\n",
       "      <td>-2.604810</td>\n",
       "      <td>-0.269691</td>\n",
       "      <td>four</td>\n",
       "    </tr>\n",
       "    <tr>\n",
       "      <th>2013-01-06</th>\n",
       "      <td>1.486124</td>\n",
       "      <td>-0.282913</td>\n",
       "      <td>1.662937</td>\n",
       "      <td>0.723184</td>\n",
       "      <td>three</td>\n",
       "    </tr>\n",
       "  </tbody>\n",
       "</table>\n",
       "</div>"
      ],
      "text/plain": [
       "                   A         B         C         D      E\n",
       "2013-01-01 -1.607562 -0.127998 -0.209677 -0.989399    one\n",
       "2013-01-02 -0.017151  1.129311 -0.589216  0.355995    one\n",
       "2013-01-03  0.266341 -0.307716 -0.445515 -1.440991    two\n",
       "2013-01-04 -0.606774 -2.012520  0.311702 -0.664928  three\n",
       "2013-01-05 -0.539119 -0.138454 -2.604810 -0.269691   four\n",
       "2013-01-06  1.486124 -0.282913  1.662937  0.723184  three"
      ]
     },
     "execution_count": 31,
     "metadata": {},
     "output_type": "execute_result"
    }
   ],
   "source": [
    "df2['E'] = ['one', 'one','two','three','four','three']\n",
    "df2"
   ]
  },
  {
   "cell_type": "code",
   "execution_count": 33,
   "id": "general-wrapping",
   "metadata": {},
   "outputs": [
    {
     "data": {
      "text/plain": [
       "2013-01-01    False\n",
       "2013-01-02    False\n",
       "2013-01-03     True\n",
       "2013-01-04    False\n",
       "2013-01-05     True\n",
       "2013-01-06    False\n",
       "Freq: D, Name: E, dtype: bool"
      ]
     },
     "execution_count": 33,
     "metadata": {},
     "output_type": "execute_result"
    }
   ],
   "source": [
    "df2['E'].isin(['two','four'])"
   ]
  },
  {
   "cell_type": "markdown",
   "id": "rising-husband",
   "metadata": {},
   "source": [
    "이렇게 만든 E 컬럼에서 two와 four가 있는지 조건을 걸고 싶을 때는 isin 명령을 쓰면 좋습니다."
   ]
  },
  {
   "cell_type": "code",
   "execution_count": 35,
   "id": "julian-heart",
   "metadata": {},
   "outputs": [
    {
     "data": {
      "text/html": [
       "<div>\n",
       "<style scoped>\n",
       "    .dataframe tbody tr th:only-of-type {\n",
       "        vertical-align: middle;\n",
       "    }\n",
       "\n",
       "    .dataframe tbody tr th {\n",
       "        vertical-align: top;\n",
       "    }\n",
       "\n",
       "    .dataframe thead th {\n",
       "        text-align: right;\n",
       "    }\n",
       "</style>\n",
       "<table border=\"1\" class=\"dataframe\">\n",
       "  <thead>\n",
       "    <tr style=\"text-align: right;\">\n",
       "      <th></th>\n",
       "      <th>A</th>\n",
       "      <th>B</th>\n",
       "      <th>C</th>\n",
       "      <th>D</th>\n",
       "      <th>E</th>\n",
       "    </tr>\n",
       "  </thead>\n",
       "  <tbody>\n",
       "    <tr>\n",
       "      <th>2013-01-03</th>\n",
       "      <td>0.266341</td>\n",
       "      <td>-0.307716</td>\n",
       "      <td>-0.445515</td>\n",
       "      <td>-1.440991</td>\n",
       "      <td>two</td>\n",
       "    </tr>\n",
       "    <tr>\n",
       "      <th>2013-01-05</th>\n",
       "      <td>-0.539119</td>\n",
       "      <td>-0.138454</td>\n",
       "      <td>-2.604810</td>\n",
       "      <td>-0.269691</td>\n",
       "      <td>four</td>\n",
       "    </tr>\n",
       "  </tbody>\n",
       "</table>\n",
       "</div>"
      ],
      "text/plain": [
       "                   A         B         C         D     E\n",
       "2013-01-03  0.266341 -0.307716 -0.445515 -1.440991   two\n",
       "2013-01-05 -0.539119 -0.138454 -2.604810 -0.269691  four"
      ]
     },
     "execution_count": 35,
     "metadata": {},
     "output_type": "execute_result"
    }
   ],
   "source": [
    "df2[df2['E'].isin(['two','four'])]"
   ]
  },
  {
   "cell_type": "markdown",
   "id": "lasting-louisiana",
   "metadata": {},
   "source": [
    "그 결과는 True/False로 반환되는데, 이것을 이용하면 조건에 맞는 데이터를 선택할 수 있습니다."
   ]
  },
  {
   "cell_type": "code",
   "execution_count": 36,
   "id": "demonstrated-rapid",
   "metadata": {},
   "outputs": [
    {
     "data": {
      "text/html": [
       "<div>\n",
       "<style scoped>\n",
       "    .dataframe tbody tr th:only-of-type {\n",
       "        vertical-align: middle;\n",
       "    }\n",
       "\n",
       "    .dataframe tbody tr th {\n",
       "        vertical-align: top;\n",
       "    }\n",
       "\n",
       "    .dataframe thead th {\n",
       "        text-align: right;\n",
       "    }\n",
       "</style>\n",
       "<table border=\"1\" class=\"dataframe\">\n",
       "  <thead>\n",
       "    <tr style=\"text-align: right;\">\n",
       "      <th></th>\n",
       "      <th>A</th>\n",
       "      <th>B</th>\n",
       "      <th>C</th>\n",
       "      <th>D</th>\n",
       "    </tr>\n",
       "  </thead>\n",
       "  <tbody>\n",
       "    <tr>\n",
       "      <th>2013-01-01</th>\n",
       "      <td>-1.607562</td>\n",
       "      <td>-0.127998</td>\n",
       "      <td>-0.209677</td>\n",
       "      <td>-0.989399</td>\n",
       "    </tr>\n",
       "    <tr>\n",
       "      <th>2013-01-02</th>\n",
       "      <td>-0.017151</td>\n",
       "      <td>1.129311</td>\n",
       "      <td>-0.589216</td>\n",
       "      <td>0.355995</td>\n",
       "    </tr>\n",
       "    <tr>\n",
       "      <th>2013-01-03</th>\n",
       "      <td>0.266341</td>\n",
       "      <td>-0.307716</td>\n",
       "      <td>-0.445515</td>\n",
       "      <td>-1.440991</td>\n",
       "    </tr>\n",
       "    <tr>\n",
       "      <th>2013-01-04</th>\n",
       "      <td>-0.606774</td>\n",
       "      <td>-2.012520</td>\n",
       "      <td>0.311702</td>\n",
       "      <td>-0.664928</td>\n",
       "    </tr>\n",
       "    <tr>\n",
       "      <th>2013-01-05</th>\n",
       "      <td>-0.539119</td>\n",
       "      <td>-0.138454</td>\n",
       "      <td>-2.604810</td>\n",
       "      <td>-0.269691</td>\n",
       "    </tr>\n",
       "    <tr>\n",
       "      <th>2013-01-06</th>\n",
       "      <td>1.486124</td>\n",
       "      <td>-0.282913</td>\n",
       "      <td>1.662937</td>\n",
       "      <td>0.723184</td>\n",
       "    </tr>\n",
       "  </tbody>\n",
       "</table>\n",
       "</div>"
      ],
      "text/plain": [
       "                   A         B         C         D\n",
       "2013-01-01 -1.607562 -0.127998 -0.209677 -0.989399\n",
       "2013-01-02 -0.017151  1.129311 -0.589216  0.355995\n",
       "2013-01-03  0.266341 -0.307716 -0.445515 -1.440991\n",
       "2013-01-04 -0.606774 -2.012520  0.311702 -0.664928\n",
       "2013-01-05 -0.539119 -0.138454 -2.604810 -0.269691\n",
       "2013-01-06  1.486124 -0.282913  1.662937  0.723184"
      ]
     },
     "execution_count": 36,
     "metadata": {},
     "output_type": "execute_result"
    }
   ],
   "source": [
    "df"
   ]
  },
  {
   "cell_type": "markdown",
   "id": "decent-sphere",
   "metadata": {},
   "source": [
    "df변수에서 좀 더 통계 느낌의 데이터를 볼 때는 특정 함수를 적용시키면 좋습니다. 이때 사용하는 것이 apply 명렁입니다. 누적합을 알고 싶을 때는 numpy의 cumsum을 이용하면 됩니다."
   ]
  },
  {
   "cell_type": "code",
   "execution_count": 37,
   "id": "abandoned-secretary",
   "metadata": {},
   "outputs": [
    {
     "data": {
      "text/html": [
       "<div>\n",
       "<style scoped>\n",
       "    .dataframe tbody tr th:only-of-type {\n",
       "        vertical-align: middle;\n",
       "    }\n",
       "\n",
       "    .dataframe tbody tr th {\n",
       "        vertical-align: top;\n",
       "    }\n",
       "\n",
       "    .dataframe thead th {\n",
       "        text-align: right;\n",
       "    }\n",
       "</style>\n",
       "<table border=\"1\" class=\"dataframe\">\n",
       "  <thead>\n",
       "    <tr style=\"text-align: right;\">\n",
       "      <th></th>\n",
       "      <th>A</th>\n",
       "      <th>B</th>\n",
       "      <th>C</th>\n",
       "      <th>D</th>\n",
       "    </tr>\n",
       "  </thead>\n",
       "  <tbody>\n",
       "    <tr>\n",
       "      <th>2013-01-01</th>\n",
       "      <td>-1.607562</td>\n",
       "      <td>-0.127998</td>\n",
       "      <td>-0.209677</td>\n",
       "      <td>-0.989399</td>\n",
       "    </tr>\n",
       "    <tr>\n",
       "      <th>2013-01-02</th>\n",
       "      <td>-1.624714</td>\n",
       "      <td>1.001313</td>\n",
       "      <td>-0.798893</td>\n",
       "      <td>-0.633404</td>\n",
       "    </tr>\n",
       "    <tr>\n",
       "      <th>2013-01-03</th>\n",
       "      <td>-1.358373</td>\n",
       "      <td>0.693597</td>\n",
       "      <td>-1.244408</td>\n",
       "      <td>-2.074395</td>\n",
       "    </tr>\n",
       "    <tr>\n",
       "      <th>2013-01-04</th>\n",
       "      <td>-1.965147</td>\n",
       "      <td>-1.318923</td>\n",
       "      <td>-0.932706</td>\n",
       "      <td>-2.739323</td>\n",
       "    </tr>\n",
       "    <tr>\n",
       "      <th>2013-01-05</th>\n",
       "      <td>-2.504266</td>\n",
       "      <td>-1.457377</td>\n",
       "      <td>-3.537516</td>\n",
       "      <td>-3.009014</td>\n",
       "    </tr>\n",
       "    <tr>\n",
       "      <th>2013-01-06</th>\n",
       "      <td>-1.018142</td>\n",
       "      <td>-1.740291</td>\n",
       "      <td>-1.874579</td>\n",
       "      <td>-2.285830</td>\n",
       "    </tr>\n",
       "  </tbody>\n",
       "</table>\n",
       "</div>"
      ],
      "text/plain": [
       "                   A         B         C         D\n",
       "2013-01-01 -1.607562 -0.127998 -0.209677 -0.989399\n",
       "2013-01-02 -1.624714  1.001313 -0.798893 -0.633404\n",
       "2013-01-03 -1.358373  0.693597 -1.244408 -2.074395\n",
       "2013-01-04 -1.965147 -1.318923 -0.932706 -2.739323\n",
       "2013-01-05 -2.504266 -1.457377 -3.537516 -3.009014\n",
       "2013-01-06 -1.018142 -1.740291 -1.874579 -2.285830"
      ]
     },
     "execution_count": 37,
     "metadata": {},
     "output_type": "execute_result"
    }
   ],
   "source": [
    "df.apply(np.cumsum)"
   ]
  },
  {
   "cell_type": "markdown",
   "id": "polyphonic-replacement",
   "metadata": {},
   "source": [
    "특별히 최대값과 최소값의 차이를 알고 싶다면 one-line 함수인 lambda를 이용할 수도 있습니다."
   ]
  },
  {
   "cell_type": "code",
   "execution_count": 38,
   "id": "constant-catalog",
   "metadata": {},
   "outputs": [
    {
     "data": {
      "text/plain": [
       "A    3.093686\n",
       "B    3.141831\n",
       "C    4.267747\n",
       "D    2.164175\n",
       "dtype: float64"
      ]
     },
     "execution_count": 38,
     "metadata": {},
     "output_type": "execute_result"
    }
   ],
   "source": [
    "df.apply(lambda x: x.max() - x.min())"
   ]
  },
  {
   "cell_type": "markdown",
   "id": "optical-hacker",
   "metadata": {},
   "source": [
    "# 1 - 4 pandas 이용해서 CCTV와 인구 현황 데이터 파악하기"
   ]
  },
  {
   "cell_type": "code",
   "execution_count": 39,
   "id": "champion-benefit",
   "metadata": {},
   "outputs": [
    {
     "data": {
      "text/html": [
       "<div>\n",
       "<style scoped>\n",
       "    .dataframe tbody tr th:only-of-type {\n",
       "        vertical-align: middle;\n",
       "    }\n",
       "\n",
       "    .dataframe tbody tr th {\n",
       "        vertical-align: top;\n",
       "    }\n",
       "\n",
       "    .dataframe thead th {\n",
       "        text-align: right;\n",
       "    }\n",
       "</style>\n",
       "<table border=\"1\" class=\"dataframe\">\n",
       "  <thead>\n",
       "    <tr style=\"text-align: right;\">\n",
       "      <th></th>\n",
       "      <th>구별</th>\n",
       "      <th>소계</th>\n",
       "      <th>2013년도 이전</th>\n",
       "      <th>2014년</th>\n",
       "      <th>2015년</th>\n",
       "      <th>2016년</th>\n",
       "    </tr>\n",
       "  </thead>\n",
       "  <tbody>\n",
       "    <tr>\n",
       "      <th>0</th>\n",
       "      <td>강남구</td>\n",
       "      <td>2780</td>\n",
       "      <td>1292</td>\n",
       "      <td>430</td>\n",
       "      <td>584</td>\n",
       "      <td>932</td>\n",
       "    </tr>\n",
       "    <tr>\n",
       "      <th>1</th>\n",
       "      <td>강동구</td>\n",
       "      <td>773</td>\n",
       "      <td>379</td>\n",
       "      <td>99</td>\n",
       "      <td>155</td>\n",
       "      <td>377</td>\n",
       "    </tr>\n",
       "    <tr>\n",
       "      <th>2</th>\n",
       "      <td>강북구</td>\n",
       "      <td>748</td>\n",
       "      <td>369</td>\n",
       "      <td>120</td>\n",
       "      <td>138</td>\n",
       "      <td>204</td>\n",
       "    </tr>\n",
       "    <tr>\n",
       "      <th>3</th>\n",
       "      <td>강서구</td>\n",
       "      <td>884</td>\n",
       "      <td>388</td>\n",
       "      <td>258</td>\n",
       "      <td>184</td>\n",
       "      <td>81</td>\n",
       "    </tr>\n",
       "    <tr>\n",
       "      <th>4</th>\n",
       "      <td>관악구</td>\n",
       "      <td>1496</td>\n",
       "      <td>846</td>\n",
       "      <td>260</td>\n",
       "      <td>390</td>\n",
       "      <td>613</td>\n",
       "    </tr>\n",
       "  </tbody>\n",
       "</table>\n",
       "</div>"
      ],
      "text/plain": [
       "    구별    소계  2013년도 이전  2014년  2015년  2016년\n",
       "0  강남구  2780       1292    430    584    932\n",
       "1  강동구   773        379     99    155    377\n",
       "2  강북구   748        369    120    138    204\n",
       "3  강서구   884        388    258    184     81\n",
       "4  관악구  1496        846    260    390    613"
      ]
     },
     "execution_count": 39,
     "metadata": {},
     "output_type": "execute_result"
    }
   ],
   "source": [
    "CCTV_Seoul.head()"
   ]
  },
  {
   "cell_type": "markdown",
   "id": "alternate-lying",
   "metadata": {},
   "source": [
    "구별 CCTV 데이터에서 CCTV 전체 개수인 소계로 정렬하겠습니다."
   ]
  },
  {
   "cell_type": "code",
   "execution_count": 40,
   "id": "cordless-realtor",
   "metadata": {},
   "outputs": [
    {
     "data": {
      "text/html": [
       "<div>\n",
       "<style scoped>\n",
       "    .dataframe tbody tr th:only-of-type {\n",
       "        vertical-align: middle;\n",
       "    }\n",
       "\n",
       "    .dataframe tbody tr th {\n",
       "        vertical-align: top;\n",
       "    }\n",
       "\n",
       "    .dataframe thead th {\n",
       "        text-align: right;\n",
       "    }\n",
       "</style>\n",
       "<table border=\"1\" class=\"dataframe\">\n",
       "  <thead>\n",
       "    <tr style=\"text-align: right;\">\n",
       "      <th></th>\n",
       "      <th>구별</th>\n",
       "      <th>소계</th>\n",
       "      <th>2013년도 이전</th>\n",
       "      <th>2014년</th>\n",
       "      <th>2015년</th>\n",
       "      <th>2016년</th>\n",
       "    </tr>\n",
       "  </thead>\n",
       "  <tbody>\n",
       "    <tr>\n",
       "      <th>9</th>\n",
       "      <td>도봉구</td>\n",
       "      <td>485</td>\n",
       "      <td>238</td>\n",
       "      <td>159</td>\n",
       "      <td>42</td>\n",
       "      <td>386</td>\n",
       "    </tr>\n",
       "    <tr>\n",
       "      <th>12</th>\n",
       "      <td>마포구</td>\n",
       "      <td>574</td>\n",
       "      <td>314</td>\n",
       "      <td>118</td>\n",
       "      <td>169</td>\n",
       "      <td>379</td>\n",
       "    </tr>\n",
       "    <tr>\n",
       "      <th>17</th>\n",
       "      <td>송파구</td>\n",
       "      <td>618</td>\n",
       "      <td>529</td>\n",
       "      <td>21</td>\n",
       "      <td>68</td>\n",
       "      <td>463</td>\n",
       "    </tr>\n",
       "    <tr>\n",
       "      <th>24</th>\n",
       "      <td>중랑구</td>\n",
       "      <td>660</td>\n",
       "      <td>509</td>\n",
       "      <td>121</td>\n",
       "      <td>177</td>\n",
       "      <td>109</td>\n",
       "    </tr>\n",
       "    <tr>\n",
       "      <th>23</th>\n",
       "      <td>중구</td>\n",
       "      <td>671</td>\n",
       "      <td>413</td>\n",
       "      <td>190</td>\n",
       "      <td>72</td>\n",
       "      <td>348</td>\n",
       "    </tr>\n",
       "  </tbody>\n",
       "</table>\n",
       "</div>"
      ],
      "text/plain": [
       "     구별   소계  2013년도 이전  2014년  2015년  2016년\n",
       "9   도봉구  485        238    159     42    386\n",
       "12  마포구  574        314    118    169    379\n",
       "17  송파구  618        529     21     68    463\n",
       "24  중랑구  660        509    121    177    109\n",
       "23   중구  671        413    190     72    348"
      ]
     },
     "execution_count": 40,
     "metadata": {},
     "output_type": "execute_result"
    }
   ],
   "source": [
    "CCTV_Seoul.sort_values(by='소계', ascending=True).head(5)"
   ]
  },
  {
   "cell_type": "markdown",
   "id": "killing-titanium",
   "metadata": {},
   "source": [
    "CCTV의 전체 개수가 가장 작은 구는 '도봉구','마포구','송파구','중랑구','중구'라는 것을 알 수 있습니다. 의아스러운 것은 강남 3구 중 하나인 송파구가 CCTV가 가장 적은 구 중 하나라는 것인데, 2장에서 보면 송파구는 범죄율이 결코 낮은 구가 아닙니다. 그런데 CCTV가 적은 구 중에 하나입니다."
   ]
  },
  {
   "cell_type": "code",
   "execution_count": 41,
   "id": "entitled-damages",
   "metadata": {},
   "outputs": [
    {
     "data": {
      "text/html": [
       "<div>\n",
       "<style scoped>\n",
       "    .dataframe tbody tr th:only-of-type {\n",
       "        vertical-align: middle;\n",
       "    }\n",
       "\n",
       "    .dataframe tbody tr th {\n",
       "        vertical-align: top;\n",
       "    }\n",
       "\n",
       "    .dataframe thead th {\n",
       "        text-align: right;\n",
       "    }\n",
       "</style>\n",
       "<table border=\"1\" class=\"dataframe\">\n",
       "  <thead>\n",
       "    <tr style=\"text-align: right;\">\n",
       "      <th></th>\n",
       "      <th>구별</th>\n",
       "      <th>소계</th>\n",
       "      <th>2013년도 이전</th>\n",
       "      <th>2014년</th>\n",
       "      <th>2015년</th>\n",
       "      <th>2016년</th>\n",
       "    </tr>\n",
       "  </thead>\n",
       "  <tbody>\n",
       "    <tr>\n",
       "      <th>0</th>\n",
       "      <td>강남구</td>\n",
       "      <td>2780</td>\n",
       "      <td>1292</td>\n",
       "      <td>430</td>\n",
       "      <td>584</td>\n",
       "      <td>932</td>\n",
       "    </tr>\n",
       "    <tr>\n",
       "      <th>18</th>\n",
       "      <td>양천구</td>\n",
       "      <td>2034</td>\n",
       "      <td>1843</td>\n",
       "      <td>142</td>\n",
       "      <td>30</td>\n",
       "      <td>467</td>\n",
       "    </tr>\n",
       "    <tr>\n",
       "      <th>14</th>\n",
       "      <td>서초구</td>\n",
       "      <td>1930</td>\n",
       "      <td>1406</td>\n",
       "      <td>157</td>\n",
       "      <td>336</td>\n",
       "      <td>398</td>\n",
       "    </tr>\n",
       "    <tr>\n",
       "      <th>21</th>\n",
       "      <td>은평구</td>\n",
       "      <td>1873</td>\n",
       "      <td>1138</td>\n",
       "      <td>224</td>\n",
       "      <td>278</td>\n",
       "      <td>468</td>\n",
       "    </tr>\n",
       "    <tr>\n",
       "      <th>20</th>\n",
       "      <td>용산구</td>\n",
       "      <td>1624</td>\n",
       "      <td>1368</td>\n",
       "      <td>218</td>\n",
       "      <td>112</td>\n",
       "      <td>398</td>\n",
       "    </tr>\n",
       "  </tbody>\n",
       "</table>\n",
       "</div>"
      ],
      "text/plain": [
       "     구별    소계  2013년도 이전  2014년  2015년  2016년\n",
       "0   강남구  2780       1292    430    584    932\n",
       "18  양천구  2034       1843    142     30    467\n",
       "14  서초구  1930       1406    157    336    398\n",
       "21  은평구  1873       1138    224    278    468\n",
       "20  용산구  1624       1368    218    112    398"
      ]
     },
     "execution_count": 41,
     "metadata": {},
     "output_type": "execute_result"
    }
   ],
   "source": [
    "CCTV_Seoul.sort_values(by='소계', ascending=False).head(5)"
   ]
  },
  {
   "cell_type": "markdown",
   "id": "economic-transformation",
   "metadata": {},
   "source": [
    "그리고 CCTV가 가장 구는 표에있는 5개 구로 나타납니다. 특히 2014년분ㅌ터 2016년까지 최근 3년간 CCTV 수를 더하고 2013년 이전 CCTV수로 나눠서 최근 3년간 CCTV 증가율을 계산하겠습니다."
   ]
  },
  {
   "cell_type": "code",
   "execution_count": 42,
   "id": "normal-pennsylvania",
   "metadata": {},
   "outputs": [
    {
     "data": {
      "text/html": [
       "<div>\n",
       "<style scoped>\n",
       "    .dataframe tbody tr th:only-of-type {\n",
       "        vertical-align: middle;\n",
       "    }\n",
       "\n",
       "    .dataframe tbody tr th {\n",
       "        vertical-align: top;\n",
       "    }\n",
       "\n",
       "    .dataframe thead th {\n",
       "        text-align: right;\n",
       "    }\n",
       "</style>\n",
       "<table border=\"1\" class=\"dataframe\">\n",
       "  <thead>\n",
       "    <tr style=\"text-align: right;\">\n",
       "      <th></th>\n",
       "      <th>구별</th>\n",
       "      <th>소계</th>\n",
       "      <th>2013년도 이전</th>\n",
       "      <th>2014년</th>\n",
       "      <th>2015년</th>\n",
       "      <th>2016년</th>\n",
       "      <th>최근증가율</th>\n",
       "    </tr>\n",
       "  </thead>\n",
       "  <tbody>\n",
       "    <tr>\n",
       "      <th>22</th>\n",
       "      <td>종로구</td>\n",
       "      <td>1002</td>\n",
       "      <td>464</td>\n",
       "      <td>314</td>\n",
       "      <td>211</td>\n",
       "      <td>630</td>\n",
       "      <td>248.922414</td>\n",
       "    </tr>\n",
       "    <tr>\n",
       "      <th>9</th>\n",
       "      <td>도봉구</td>\n",
       "      <td>485</td>\n",
       "      <td>238</td>\n",
       "      <td>159</td>\n",
       "      <td>42</td>\n",
       "      <td>386</td>\n",
       "      <td>246.638655</td>\n",
       "    </tr>\n",
       "    <tr>\n",
       "      <th>12</th>\n",
       "      <td>마포구</td>\n",
       "      <td>574</td>\n",
       "      <td>314</td>\n",
       "      <td>118</td>\n",
       "      <td>169</td>\n",
       "      <td>379</td>\n",
       "      <td>212.101911</td>\n",
       "    </tr>\n",
       "    <tr>\n",
       "      <th>8</th>\n",
       "      <td>노원구</td>\n",
       "      <td>1265</td>\n",
       "      <td>542</td>\n",
       "      <td>57</td>\n",
       "      <td>451</td>\n",
       "      <td>516</td>\n",
       "      <td>188.929889</td>\n",
       "    </tr>\n",
       "    <tr>\n",
       "      <th>1</th>\n",
       "      <td>강동구</td>\n",
       "      <td>773</td>\n",
       "      <td>379</td>\n",
       "      <td>99</td>\n",
       "      <td>155</td>\n",
       "      <td>377</td>\n",
       "      <td>166.490765</td>\n",
       "    </tr>\n",
       "  </tbody>\n",
       "</table>\n",
       "</div>"
      ],
      "text/plain": [
       "     구별    소계  2013년도 이전  2014년  2015년  2016년       최근증가율\n",
       "22  종로구  1002        464    314    211    630  248.922414\n",
       "9   도봉구   485        238    159     42    386  246.638655\n",
       "12  마포구   574        314    118    169    379  212.101911\n",
       "8   노원구  1265        542     57    451    516  188.929889\n",
       "1   강동구   773        379     99    155    377  166.490765"
      ]
     },
     "execution_count": 42,
     "metadata": {},
     "output_type": "execute_result"
    }
   ],
   "source": [
    "CCTV_Seoul['최근증가율'] = (CCTV_Seoul['2016년'] + CCTV_Seoul['2015년'] + \\\n",
    "                            CCTV_Seoul['2014년']) / CCTV_Seoul['2013년도 이전']  * 100\n",
    "CCTV_Seoul.sort_values(by='최근증가율', ascending=False).head(5)"
   ]
  },
  {
   "cell_type": "code",
   "execution_count": null,
   "id": "transsexual-finance",
   "metadata": {},
   "outputs": [],
   "source": []
  }
 ],
 "metadata": {
  "kernelspec": {
   "display_name": "Python 3",
   "language": "python",
   "name": "python3"
  },
  "language_info": {
   "codemirror_mode": {
    "name": "ipython",
    "version": 3
   },
   "file_extension": ".py",
   "mimetype": "text/x-python",
   "name": "python",
   "nbconvert_exporter": "python",
   "pygments_lexer": "ipython3",
   "version": "3.6.9"
  }
 },
 "nbformat": 4,
 "nbformat_minor": 5
}
